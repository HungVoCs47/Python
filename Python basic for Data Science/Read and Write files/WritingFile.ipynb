{
 "cells": [
  {
   "cell_type": "code",
   "execution_count": 10,
   "id": "d8c4228f-9b96-4f7c-87c6-af4f9f40651f",
   "metadata": {},
   "outputs": [
    {
     "name": "stdout",
     "output_type": "stream",
     "text": [
      "['This is line A\\n', 'This is line B\\n', 'This is line C\\n']\n"
     ]
    }
   ],
   "source": [
    "Lines = [\"This is line A\\n\", \"This is line B\\n\", \"This is line C\\n\"]\n",
    "print(Lines)"
   ]
  },
  {
   "cell_type": "code",
   "execution_count": 11,
   "id": "956bbe49-3d91-4d0c-ba10-7652f6c617ff",
   "metadata": {},
   "outputs": [
    {
     "name": "stdout",
     "output_type": "stream",
     "text": [
      "This is line A\n",
      "\n",
      "This is line B\n",
      "\n",
      "This is line C\n",
      "\n"
     ]
    }
   ],
   "source": [
    "with open(\"Example2.txt\", 'w') as writefile:\n",
    "    for line in Lines:\n",
    "        print(line)\n",
    "        writefile.write(line)"
   ]
  },
  {
   "cell_type": "code",
   "execution_count": 16,
   "id": "317d207b-e1f4-41e2-b78b-07e454a61083",
   "metadata": {},
   "outputs": [
    {
     "name": "stdout",
     "output_type": "stream",
     "text": [
      "This is line A\n",
      "This is line B\n",
      "This is line C\n",
      "\n"
     ]
    }
   ],
   "source": [
    "with open(\"Example2.txt\", 'r') as readfile:\n",
    "        print(readfile.read())\n",
    "    "
   ]
  },
  {
   "cell_type": "code",
   "execution_count": 17,
   "id": "a9fa1731-70e5-4473-8bde-0a8cc21b607c",
   "metadata": {},
   "outputs": [
    {
     "name": "stdout",
     "output_type": "stream",
     "text": [
      "Overwrite\n",
      "\n"
     ]
    }
   ],
   "source": [
    "with open('Example2.txt', 'w') as writefile:\n",
    "    writefile.write(\"Overwrite\\n\")\n",
    "with open('Example2.txt', 'r') as testwritefile:\n",
    "    print(testwritefile.read())"
   ]
  },
  {
   "cell_type": "code",
   "execution_count": 39,
   "id": "65d6aed9-b083-4698-bff4-56d19d8b8c2c",
   "metadata": {},
   "outputs": [],
   "source": [
    "with open('Example2.txt', 'a') as testwritefile:\n",
    "    testwritefile.write(\"This is line C\\n\")\n",
    "    testwritefile.write(\"This is line D\\n\")\n",
    "    testwritefile.write(\"This is line E\\n\")"
   ]
  },
  {
   "cell_type": "code",
   "execution_count": 40,
   "id": "1968f6f0-0cff-4a84-aabc-133cbb9262f5",
   "metadata": {},
   "outputs": [
    {
     "name": "stdout",
     "output_type": "stream",
     "text": [
      "This is line C\n",
      "This is line D\n",
      "This is line E\n",
      "This is line C\n",
      "This is line D\n",
      "This is line E\n",
      "This is line C\n",
      "This is line D\n",
      "This is line E\n",
      "\n"
     ]
    }
   ],
   "source": [
    "with open('Example2.txt', 'r') as testwritefile:\n",
    "    print(testwritefile.read())"
   ]
  },
  {
   "cell_type": "code",
   "execution_count": 41,
   "id": "ba791766-8832-4afa-ae8c-7c0e53246ed5",
   "metadata": {},
   "outputs": [
    {
     "name": "stdout",
     "output_type": "stream",
     "text": [
      "This is line C\n",
      "This is line D\n",
      "This is line E\n",
      "This is line C\n",
      "This is line D\n",
      "This is line E\n",
      "This is line C\n",
      "This is line D\n",
      "This is line E\n",
      "\n"
     ]
    }
   ],
   "source": [
    "with open('Example2.txt', 'r') as testwritefile:\n",
    "    print(testwritefile.read())"
   ]
  },
  {
   "cell_type": "code",
   "execution_count": 20,
   "id": "84509ed9-2423-400d-8d5f-d9f14196c2dd",
   "metadata": {},
   "outputs": [
    {
     "name": "stdout",
     "output_type": "stream",
     "text": [
      "IL: 150\n",
      "Read nothing\n",
      "\n",
      "New Location : 0\n",
      "This is line C\n",
      "This is line D\n",
      "This is line E\n",
      "This is line C\n",
      "This is line D\n",
      "This is line E\n",
      "This is line C\n",
      "This is line D\n",
      "This is line E\n",
      "This is line E\n",
      "\n",
      "Location after read: 150\n"
     ]
    }
   ],
   "source": [
    "with open(\"Example2.txt\", \"a+\") as testwriteFile:\n",
    "    print(\"IL: {}\".format(testwriteFile.tell()))\n",
    "    data = testwriteFile.read()\n",
    "    if (not data):\n",
    "        print('Read nothing') \n",
    "    else:\n",
    "        print(testwriteFile.read())\n",
    "    testwriteFile.seek(0,0) # move 0 bytes from beginning.\n",
    "    \n",
    "    print(\"\\nNew Location : {}\".format(testwriteFile.tell()))\n",
    "    data = testwriteFile.read()\n",
    "    if (not data): \n",
    "        print('Read nothing') \n",
    "    else: \n",
    "        print(data)\n",
    "    \n",
    "    print(\"Location after read: {}\".format(testwriteFile.tell()))\n",
    "    \n",
    "# fileObject.seek(offset[, whence])\n",
    "# offset − This is the position of the read/write pointer within the file.\n",
    "# whence − This is optional and defaults to 0 which means absolute file positioning, other values are 1 which means seek relative to the current position and 2 means seek relative to the file's end."
   ]
  },
  {
   "cell_type": "code",
   "execution_count": 23,
   "id": "d48044ee-f05f-4e3c-b750-a3542d999630",
   "metadata": {},
   "outputs": [
    {
     "name": "stdout",
     "output_type": "stream",
     "text": [
      "Line 1\n",
      "Line 2\n",
      "Line 3\n",
      "finished\n",
      "This is line E\n",
      "This is line C\n",
      "This is line D\n",
      "This is line E\n",
      "This is line C\n",
      "This is line D\n",
      "This is line E\n",
      "This is line E\n",
      "\n"
     ]
    }
   ],
   "source": [
    "with open('Example2.txt', 'r+') as testwritefile:\n",
    "    data = testwritefile.readlines()\n",
    "    testwritefile.seek(0, 0)\n",
    "    testwritefile.write(\"Line 1\" + \"\\n\")\n",
    "    testwritefile.write(\"Line 2\" + \"\\n\")\n",
    "    testwritefile.write(\"Line 3\" + \"\\n\")\n",
    "    testwritefile.write(\"finished\\n\")\n",
    "    testwritefile.seek(0,0)\n",
    "    print(testwritefile.read())"
   ]
  },
  {
   "cell_type": "code",
   "execution_count": 52,
   "id": "4f21f30f-1f4e-4448-b648-cbf0fdb67069",
   "metadata": {},
   "outputs": [],
   "source": [
    "#Run this prior to starting the exercise\n",
    "from random import randint as rnd\n",
    "\n",
    "memReg = 'members.txt'\n",
    "exReg = 'inactive.txt'\n",
    "fee =('yes','no')\n",
    "\n",
    "def genFiles(current,old):\n",
    "    with open(current,'w+') as writefile: \n",
    "        writefile.write('Membership No  Date Joined  Active  \\n')\n",
    "        data = \"{:^13}  {:<11}  {:<6}\\n\"\n",
    "\n",
    "        for rowno in range(20):\n",
    "            date = str(rnd(2015,2020))+ '-' + str(rnd(1,12))+'-'+str(rnd(1,25))\n",
    "            writefile.write(data.format(rnd(10000,99999),date,fee[rnd(0,1)]))\n",
    "\n",
    "\n",
    "    with open(old,'w+') as writefile: \n",
    "        writefile.write('Membership No  Date Joined  Active  \\n')\n",
    "        data = \"{:^13}  {:<11}  {:<6}\\n\"\n",
    "        for rowno in range(3):\n",
    "            date = str(rnd(2015,2020))+ '-' + str(rnd(1,12))+'-'+str(rnd(1,25))\n",
    "            writefile.write(data.format(rnd(10000,99999),date,fee[1]))\n",
    "\n",
    "\n",
    "genFiles(memReg,exReg)"
   ]
  },
  {
   "cell_type": "code",
   "execution_count": 54,
   "id": "32f87d3d-31fe-4f98-bac1-90766170dcfe",
   "metadata": {},
   "outputs": [
    {
     "name": "stdout",
     "output_type": "stream",
     "text": [
      "Active Members: \n",
      "\n",
      "\n",
      "Membership No  Date Joined  Active  \n",
      "    53492      2016-4-1     yes   \n",
      "    57083      2016-12-12   yes   \n",
      "    40014      2016-5-12    yes   \n",
      "    34142      2015-12-24   yes   \n",
      "    46617      2018-8-12    yes   \n",
      "    93354      2016-8-2     yes   \n",
      "    86789      2019-5-19    yes   \n",
      "    67707      2017-12-9    yes   \n",
      "    91730      2020-10-4    yes   \n",
      "    46617      2018-8-12    yes   \n",
      "    93354      2016-8-2     yes   \n",
      "    86789      2019-5-19    yes   \n",
      "    67707      2017-12-9    yes   \n",
      "    91730      2020-10-4    yes   \n",
      "\n",
      "Inactive Members: \n",
      "\n",
      "\n",
      "Membership No  Date Joined  Active  \n",
      "    94801      2019-5-21    no    \n",
      "    10254      2015-4-11    no    \n",
      "    40248      2016-2-15    no    \n",
      "    70415      2017-1-22    no    \n",
      "    95110      2019-12-4    no    \n",
      "    40241      2017-9-1     no    \n",
      "    80972      2017-7-4     no    \n",
      "    96836      2020-2-17    no    \n",
      "    35459      2015-1-11    no    \n",
      "    60198      2017-2-23    no    \n",
      "    72584      2016-8-11    no    \n",
      "    68360      2016-2-7     no    \n",
      "    76651      2015-11-24   no    \n",
      "    21534      2019-11-13   no    \n",
      "    35459      2015-1-11    no    \n",
      "    60198      2017-2-23    no    \n",
      "    72584      2016-8-11    no    \n",
      "    68360      2016-2-7     no    \n",
      "    76651      2015-11-24   no    \n",
      "    21534      2019-11-13   no    \n",
      "\n",
      "Active Members: \n",
      "\n",
      "\n",
      "Membership No  Date Joined  Active  \n",
      "    53492      2016-4-1     yes   \n",
      "    57083      2016-12-12   yes   \n",
      "    40014      2016-5-12    yes   \n",
      "    34142      2015-12-24   yes   \n",
      "    46617      2018-8-12    yes   \n",
      "    93354      2016-8-2     yes   \n",
      "    86789      2019-5-19    yes   \n",
      "    67707      2017-12-9    yes   \n",
      "    91730      2020-10-4    yes   \n",
      "    46617      2018-8-12    yes   \n",
      "    93354      2016-8-2     yes   \n",
      "    86789      2019-5-19    yes   \n",
      "    67707      2017-12-9    yes   \n",
      "    91730      2020-10-4    yes   \n",
      "\n",
      "Inactive Members: \n",
      "\n",
      "\n",
      "Membership No  Date Joined  Active  \n",
      "    94801      2019-5-21    no    \n",
      "    10254      2015-4-11    no    \n",
      "    40248      2016-2-15    no    \n",
      "    70415      2017-1-22    no    \n",
      "    95110      2019-12-4    no    \n",
      "    40241      2017-9-1     no    \n",
      "    80972      2017-7-4     no    \n",
      "    96836      2020-2-17    no    \n",
      "    35459      2015-1-11    no    \n",
      "    60198      2017-2-23    no    \n",
      "    72584      2016-8-11    no    \n",
      "    68360      2016-2-7     no    \n",
      "    76651      2015-11-24   no    \n",
      "    21534      2019-11-13   no    \n",
      "    35459      2015-1-11    no    \n",
      "    60198      2017-2-23    no    \n",
      "    72584      2016-8-11    no    \n",
      "    68360      2016-2-7     no    \n",
      "    76651      2015-11-24   no    \n",
      "    21534      2019-11-13   no    \n",
      "\n"
     ]
    }
   ],
   "source": [
    "def cleanFiles(currentMem, exMem):\n",
    "    with open(currentMem, \"r+\") as writefile:\n",
    "        with open(exMem, \"a+\") as appendfile:\n",
    "            writefile.seek(0)\n",
    "            members = writefile.readlines()\n",
    "            #print(members)\n",
    "            header = members[0]\n",
    "            members.pop(0)\n",
    "            inactive = [member for member in members if ('no' in member)]\n",
    "            writefile.seek(0)\n",
    "            writefile.write(header)\n",
    "            for member in members:\n",
    "                if(member in inactive):\n",
    "                    appendfile.write(member)\n",
    "                else:\n",
    "                    writefile.write(member)\n",
    "            writefile.truncate()\n",
    "                    # Code to help you see the files\n",
    "memReg = 'members.txt'\n",
    "exReg = 'inactive.txt'\n",
    "cleanFiles(memReg,exReg)\n",
    "\n",
    "# code to help you see the files\n",
    "\n",
    "headers = \"Membership No  Date Joined  Active  \\n\"\n",
    "\n",
    "with open(memReg,'r') as readFile:\n",
    "    print(\"Active Members: \\n\\n\")\n",
    "    print(readFile.read())\n",
    "    \n",
    "with open(exReg,'r') as readFile:\n",
    "    print(\"Inactive Members: \\n\\n\")\n",
    "    print(readFile.read())\n",
    "\n",
    "\n",
    "# Code to help you see the files\n",
    "# Leave as is\n",
    "memReg = 'members.txt'\n",
    "exReg = 'inactive.txt'\n",
    "cleanFiles(memReg,exReg)\n",
    "\n",
    "\n",
    "headers = \"Membership No  Date Joined  Active  \\n\"\n",
    "with open(memReg,'r') as readFile:\n",
    "    print(\"Active Members: \\n\\n\")\n",
    "    print(readFile.read())\n",
    "    \n",
    "with open(exReg,'r') as readFile:\n",
    "    print(\"Inactive Members: \\n\\n\")\n",
    "    print(readFile.read())"
   ]
  },
  {
   "cell_type": "code",
   "execution_count": 50,
   "id": "447798f5-7ad3-46cf-b09a-5837f3b0e31b",
   "metadata": {},
   "outputs": [
    {
     "name": "stdout",
     "output_type": "stream",
     "text": [
      "The number of rows do not add up. Make sure your final files have the same header and format.\n",
      "Inactive members in file\n",
      "Test Failed\n"
     ]
    }
   ],
   "source": [
    "def testMsg(passed):\n",
    "    if passed:\n",
    "       return 'Test Passed'\n",
    "    else :\n",
    "       return 'Test Failed'\n",
    "\n",
    "testWrite = \"testWrite.txt\"\n",
    "testAppend = \"testAppend.txt\" \n",
    "passed = True\n",
    "\n",
    "genFiles(testWrite,testAppend)\n",
    "\n",
    "with open(testWrite,'r') as file:\n",
    "    ogWrite = file.readlines()\n",
    "\n",
    "with open(testAppend,'r') as file:\n",
    "    ogAppend = file.readlines()\n",
    "\n",
    "try:\n",
    "    cleanFiles(testWrite,testAppend)\n",
    "except:\n",
    "    print('Error')\n",
    "\n",
    "with open(testWrite,'r') as file:\n",
    "    clWrite = file.readlines()\n",
    "\n",
    "with open(testAppend,'r') as file:\n",
    "    clAppend = file.readlines()\n",
    "        \n",
    "# checking if total no of rows is same, including headers\n",
    "\n",
    "if (len(ogWrite) + len(ogAppend) != len(clWrite) + len(clAppend)):\n",
    "    print(\"The number of rows do not add up. Make sure your final files have the same header and format.\")\n",
    "    passed = False\n",
    "    \n",
    "for line in clWrite:\n",
    "    if  'no' in line:\n",
    "        passed = False\n",
    "        print(\"Inactive members in file\")\n",
    "        break\n",
    "    else:\n",
    "        if line not in ogWrite:\n",
    "            print(\"Data in file does not match original file\")\n",
    "            passed = False\n",
    "print (\"{}\".format(testMsg(passed)))\n",
    "    \n",
    "\n"
   ]
  },
  {
   "cell_type": "code",
   "execution_count": null,
   "id": "067a1fc2-be49-41de-b803-113cddb36f38",
   "metadata": {},
   "outputs": [],
   "source": []
  }
 ],
 "metadata": {
  "kernelspec": {
   "display_name": "Python",
   "language": "python",
   "name": "conda-env-python-py"
  },
  "language_info": {
   "codemirror_mode": {
    "name": "ipython",
    "version": 3
   },
   "file_extension": ".py",
   "mimetype": "text/x-python",
   "name": "python",
   "nbconvert_exporter": "python",
   "pygments_lexer": "ipython3",
   "version": "3.7.10"
  }
 },
 "nbformat": 4,
 "nbformat_minor": 5
}
