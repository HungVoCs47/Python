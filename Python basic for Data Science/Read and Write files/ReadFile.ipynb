{
 "cells": [
  {
   "cell_type": "code",
   "execution_count": 46,
   "id": "4458fa75-3719-4636-aa1e-e8952aed8790",
   "metadata": {},
   "outputs": [
    {
     "data": {
      "text/plain": [
       "('Example1.txt', <http.client.HTTPMessage at 0x7f16ac8b8f50>)"
      ]
     },
     "execution_count": 46,
     "metadata": {},
     "output_type": "execute_result"
    }
   ],
   "source": [
    "import urllib.request\n",
    "url = 'https://cf-courses-data.s3.us.cloud-object-storage.appdomain.cloud/IBMDeveloperSkillsNetwork-PY0101EN-SkillsNetwork/labs/Module%204/data/example1.txt'\n",
    "filename = 'Example1.txt'\n",
    "urllib.request.urlretrieve(url, filename)"
   ]
  },
  {
   "cell_type": "code",
   "execution_count": 47,
   "id": "c812afee-b22e-49e5-9a1f-4bea2628c027",
   "metadata": {},
   "outputs": [
    {
     "name": "stdout",
     "output_type": "stream",
     "text": [
      "/resources/data/Example1.txt: No such file or directory\n"
     ]
    }
   ],
   "source": [
    "# Download Example file\n",
    "\n",
    "\n",
    "!wget -O /resources/data/Example1.txt https://cf-courses-data.s3.us.cloud-object-storage.appdomain.cloud/IBMDeveloperSkillsNetwork-PY0101EN-SkillsNetwork/labs/Module%204/data/example1.txt"
   ]
  },
  {
   "cell_type": "code",
   "execution_count": 27,
   "id": "b4cc24f4-dc41-4a2c-9073-9301609926b9",
   "metadata": {},
   "outputs": [],
   "source": [
    "file1 = open(\"Example1.txt\", \"r\")"
   ]
  },
  {
   "cell_type": "code",
   "execution_count": 28,
   "id": "0c5f8735-142a-459d-b036-de676f6c8f66",
   "metadata": {},
   "outputs": [
    {
     "data": {
      "text/plain": [
       "'r'"
      ]
     },
     "execution_count": 28,
     "metadata": {},
     "output_type": "execute_result"
    }
   ],
   "source": [
    "file1.mode\n"
   ]
  },
  {
   "cell_type": "code",
   "execution_count": 29,
   "id": "53922c2a-e052-411b-b8a2-3c1d772b9233",
   "metadata": {},
   "outputs": [
    {
     "data": {
      "text/plain": [
       "'This is line 1 \\nThis is line 2\\nThis is line 3'"
      ]
     },
     "execution_count": 29,
     "metadata": {},
     "output_type": "execute_result"
    }
   ],
   "source": [
    "FileContent = file1.read()\n",
    "FileContent"
   ]
  },
  {
   "cell_type": "code",
   "execution_count": 30,
   "id": "33709d03-acd8-441f-854a-2592b7072c3e",
   "metadata": {},
   "outputs": [
    {
     "name": "stdout",
     "output_type": "stream",
     "text": [
      "This is line 1 \n",
      "This is line 2\n",
      "This is line 3\n"
     ]
    }
   ],
   "source": [
    "print(FileContent)"
   ]
  },
  {
   "cell_type": "code",
   "execution_count": 32,
   "id": "a9bcec11-9329-4eda-bf13-35cbfe317196",
   "metadata": {},
   "outputs": [
    {
     "data": {
      "text/plain": [
       "str"
      ]
     },
     "execution_count": 32,
     "metadata": {},
     "output_type": "execute_result"
    }
   ],
   "source": [
    "type(FileContent)"
   ]
  },
  {
   "cell_type": "code",
   "execution_count": 33,
   "id": "fae2531c-333e-4428-a19f-8a03c363e667",
   "metadata": {},
   "outputs": [],
   "source": [
    "file1.close() \n",
    "# remember to close the file after using "
   ]
  },
  {
   "cell_type": "code",
   "execution_count": 36,
   "id": "b968e485-6c29-4902-8550-53cc9c29ccb7",
   "metadata": {},
   "outputs": [
    {
     "name": "stdout",
     "output_type": "stream",
     "text": [
      "This is line 1 \n",
      "This is line 2\n",
      "This is line 3\n"
     ]
    }
   ],
   "source": [
    "# A better way to open the file\n",
    "with open(\"Example1.txt\", \"r\") as file1:\n",
    "    FileContent = file1.read()\n",
    "    print(FileContent)"
   ]
  },
  {
   "cell_type": "code",
   "execution_count": 37,
   "id": "2198d451-05c6-42a7-a7d7-3178664f5f28",
   "metadata": {},
   "outputs": [
    {
     "data": {
      "text/plain": [
       "True"
      ]
     },
     "execution_count": 37,
     "metadata": {},
     "output_type": "execute_result"
    }
   ],
   "source": [
    "# check file1 already close\n",
    "file1.closed"
   ]
  },
  {
   "cell_type": "code",
   "execution_count": 38,
   "id": "33cc0b0d-b2a0-4f0c-a3a7-fd4fe53d2540",
   "metadata": {},
   "outputs": [],
   "source": [
    "file1.close()"
   ]
  },
  {
   "cell_type": "code",
   "execution_count": 44,
   "id": "bfba2a82-1266-48d9-bd1e-1b8efecfbabf",
   "metadata": {},
   "outputs": [
    {
     "name": "stdout",
     "output_type": "stream",
     "text": [
      "This\n",
      " is \n"
     ]
    }
   ],
   "source": [
    "with open(\"Example1.txt\", \"r\") as File1:\n",
    "    s = File1.read(4)\n",
    "    print(s)\n",
    "    s = File1.read(4)\n",
    "    print(s)"
   ]
  },
  {
   "cell_type": "code",
   "execution_count": 43,
   "id": "7ca56d28-cab2-44e9-9dec-7b452f895ef1",
   "metadata": {},
   "outputs": [
    {
     "name": "stdout",
     "output_type": "stream",
     "text": [
      "This is line 1 \n",
      "This\n"
     ]
    }
   ],
   "source": [
    "with open(\"Example1.txt\", \"r\") as File1:\n",
    "    s = File1.read(20)\n",
    "    print(s)"
   ]
  },
  {
   "cell_type": "code",
   "execution_count": 49,
   "id": "69ea01c0-9cac-4351-87ea-73bcc30dad62",
   "metadata": {},
   "outputs": [
    {
     "name": "stdout",
     "output_type": "stream",
     "text": [
      "This is line 1 \n",
      "\n",
      "This \n",
      "is line 2\n"
     ]
    }
   ],
   "source": [
    "with open(\"Example1.txt\", \"r\") as File1:\n",
    "    print(File1.read(16))\n",
    "    print(File1.read(5))\n",
    "    print(File1.read(9))"
   ]
  },
  {
   "cell_type": "code",
   "execution_count": 53,
   "id": "8a1d6ed9-ca19-46a2-940f-ccbbc254c678",
   "metadata": {},
   "outputs": [
    {
     "name": "stdout",
     "output_type": "stream",
     "text": [
      "first line: This is line 1 \n",
      "\n",
      "Second line: This is line 2\n",
      "\n"
     ]
    }
   ],
   "source": [
    "# We can also read one line of the file at a time using the method readline():\n",
    "with open(\"Example1.txt\", \"r\") as File1:\n",
    "    print(\"first line: \" + File1.readline())\n",
    "    print(\"Second line: \" + File1.readline())"
   ]
  },
  {
   "cell_type": "code",
   "execution_count": 57,
   "id": "6ad7c1af-f598-4c36-8338-712c3ce33ce9",
   "metadata": {},
   "outputs": [
    {
     "name": "stdout",
     "output_type": "stream",
     "text": [
      "Iteration 0 :  This is line 1 \n",
      "\n",
      "Iteration 1 :  This is line 2\n",
      "\n",
      "Iteration 2 :  This is line 3\n"
     ]
    }
   ],
   "source": [
    "with open(\"Example1.txt\", \"r\") as file1:\n",
    "    i = 0\n",
    "    for line in file1:\n",
    "        print(\"Iteration\", str(i), \": \", line)\n",
    "        i = i + 1\n"
   ]
  },
  {
   "cell_type": "code",
   "execution_count": 59,
   "id": "9ce68217-3d79-4fdc-9491-209e6e8cf225",
   "metadata": {},
   "outputs": [
    {
     "name": "stdout",
     "output_type": "stream",
     "text": [
      "This is line 1 \n",
      "\n"
     ]
    }
   ],
   "source": [
    "#We can use the method readlines() to save the text file to a list:\n",
    "with open(\"Example1.txt\", \"r\") as file1:\n",
    "    FileasList = file1.readlines()\n",
    "print(FileasList[0])"
   ]
  }
 ],
 "metadata": {
  "kernelspec": {
   "display_name": "Python",
   "language": "python",
   "name": "conda-env-python-py"
  },
  "language_info": {
   "codemirror_mode": {
    "name": "ipython",
    "version": 3
   },
   "file_extension": ".py",
   "mimetype": "text/x-python",
   "name": "python",
   "nbconvert_exporter": "python",
   "pygments_lexer": "ipython3",
   "version": "3.7.10"
  }
 },
 "nbformat": 4,
 "nbformat_minor": 5
}
