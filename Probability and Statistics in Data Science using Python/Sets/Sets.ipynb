{
 "cells": [
  {
   "cell_type": "code",
   "execution_count": 2,
   "id": "6d502269-127e-4c19-aa95-c95c46bf0e04",
   "metadata": {},
   "outputs": [
    {
     "name": "stdout",
     "output_type": "stream",
     "text": [
      "{1, 2}\n"
     ]
    }
   ],
   "source": [
    "# Define a Set\n",
    "# {...} or set({...})\n",
    "Set1 = {1,2}\n",
    "print(Set1)"
   ]
  },
  {
   "cell_type": "code",
   "execution_count": 3,
   "id": "cd372e9d-8c20-4052-b890-96236fde6c63",
   "metadata": {},
   "outputs": [
    {
     "name": "stdout",
     "output_type": "stream",
     "text": [
      "set()\n"
     ]
    }
   ],
   "source": [
    "# empty set\n",
    "Empty1 = set()\n",
    "type(Empty1)\n",
    "print(Empty1)"
   ]
  },
  {
   "cell_type": "code",
   "execution_count": 4,
   "id": "5f338477-6fd5-4f83-84fc-863de006c265",
   "metadata": {},
   "outputs": [
    {
     "data": {
      "text/plain": [
       "set"
      ]
     },
     "execution_count": 4,
     "metadata": {},
     "output_type": "execute_result"
    }
   ],
   "source": [
    "Empty2 = set({})\n",
    "type(Empty2)\n"
   ]
  },
  {
   "cell_type": "code",
   "execution_count": 5,
   "id": "70de1a41-2b2f-4922-b4b5-019e6a4573c6",
   "metadata": {},
   "outputs": [
    {
     "data": {
      "text/plain": [
       "True"
      ]
     },
     "execution_count": 5,
     "metadata": {},
     "output_type": "execute_result"
    }
   ],
   "source": [
    "Furniture={'desk', 'chair'}\n",
    "'desk' in Furniture"
   ]
  },
  {
   "cell_type": "code",
   "execution_count": 6,
   "id": "bbde4502-ca76-4543-b3fd-e6d970ca2841",
   "metadata": {},
   "outputs": [
    {
     "data": {
      "text/plain": [
       "True"
      ]
     },
     "execution_count": 6,
     "metadata": {},
     "output_type": "execute_result"
    }
   ],
   "source": [
    "'bed' in Furniture\n",
    "'bed' not in Furniture"
   ]
  },
  {
   "cell_type": "code",
   "execution_count": 7,
   "id": "fc4c5c42-ef28-4247-a304-5be8438c8fb7",
   "metadata": {},
   "outputs": [
    {
     "data": {
      "text/plain": [
       "True"
      ]
     },
     "execution_count": 7,
     "metadata": {},
     "output_type": "execute_result"
    }
   ],
   "source": [
    "not Empty1"
   ]
  },
  {
   "cell_type": "code",
   "execution_count": 8,
   "id": "58808711-f010-45a8-9652-e2b45ee8dbd1",
   "metadata": {},
   "outputs": [
    {
     "name": "stdout",
     "output_type": "stream",
     "text": [
      "2\n"
     ]
    }
   ],
   "source": [
    "print(len(Furniture))"
   ]
  },
  {
   "cell_type": "code",
   "execution_count": 9,
   "id": "ba9c6e7d-6287-4b93-9a0f-907a91592638",
   "metadata": {},
   "outputs": [
    {
     "name": "stdout",
     "output_type": "stream",
     "text": [
      "{0, 1, 2}\n"
     ]
    }
   ],
   "source": [
    "print(set(range(3)))"
   ]
  },
  {
   "cell_type": "code",
   "execution_count": 10,
   "id": "855a3f90-dc56-443a-896b-5fae669ff134",
   "metadata": {},
   "outputs": [
    {
     "name": "stdout",
     "output_type": "stream",
     "text": [
      "Collecting matplotlib-venn\n",
      "  Downloading matplotlib-venn-0.11.6.tar.gz (29 kB)\n",
      "Requirement already satisfied: matplotlib in /home/jupyterlab/conda/envs/python/lib/python3.7/site-packages (from matplotlib-venn) (3.4.3)\n",
      "Requirement already satisfied: numpy in /home/jupyterlab/conda/envs/python/lib/python3.7/site-packages (from matplotlib-venn) (1.21.2)\n",
      "Requirement already satisfied: scipy in /home/jupyterlab/conda/envs/python/lib/python3.7/site-packages (from matplotlib-venn) (1.7.1)\n",
      "Requirement already satisfied: python-dateutil>=2.7 in /home/jupyterlab/conda/envs/python/lib/python3.7/site-packages (from matplotlib->matplotlib-venn) (2.8.2)\n",
      "Requirement already satisfied: cycler>=0.10 in /home/jupyterlab/conda/envs/python/lib/python3.7/site-packages (from matplotlib->matplotlib-venn) (0.10.0)\n",
      "Requirement already satisfied: pyparsing>=2.2.1 in /home/jupyterlab/conda/envs/python/lib/python3.7/site-packages (from matplotlib->matplotlib-venn) (2.4.7)\n",
      "Requirement already satisfied: pillow>=6.2.0 in /home/jupyterlab/conda/envs/python/lib/python3.7/site-packages (from matplotlib->matplotlib-venn) (8.1.0)\n",
      "Requirement already satisfied: kiwisolver>=1.0.1 in /home/jupyterlab/conda/envs/python/lib/python3.7/site-packages (from matplotlib->matplotlib-venn) (1.3.2)\n",
      "Requirement already satisfied: six in /home/jupyterlab/conda/envs/python/lib/python3.7/site-packages (from cycler>=0.10->matplotlib->matplotlib-venn) (1.16.0)\n",
      "Building wheels for collected packages: matplotlib-venn\n",
      "  Building wheel for matplotlib-venn (setup.py) ... \u001b[?25ldone\n",
      "\u001b[?25h  Created wheel for matplotlib-venn: filename=matplotlib_venn-0.11.6-py3-none-any.whl size=32065 sha256=d52ee902be17a8b1e5cffaeb47851e4d8bec6b9afd656eb3ab8a92426a4a962f\n",
      "  Stored in directory: /home/jupyterlab/.cache/pip/wheels/83/b1/0d/2f0c1d1b8ac6eb051dac0775adc44c8a83a0bf1dafc2b2becc\n",
      "Successfully built matplotlib-venn\n",
      "Installing collected packages: matplotlib-venn\n",
      "Successfully installed matplotlib-venn-0.11.6\n"
     ]
    }
   ],
   "source": [
    "! pip install matplotlib-venn"
   ]
  },
  {
   "cell_type": "code",
   "execution_count": 11,
   "id": "80a86466-94ae-40e6-b74b-185860346ad1",
   "metadata": {},
   "outputs": [],
   "source": [
    "import matplotlib.pyplot as plt\n",
    "import matplotlib_venn as venn"
   ]
  },
  {
   "cell_type": "code",
   "execution_count": 12,
   "id": "c13366b7-e3ab-4e8f-8624-2b36ede7c627",
   "metadata": {},
   "outputs": [
    {
     "data": {
      "image/png": "[encoded data removed]",
      "text/plain": [
       "<Figure size 432x288 with 1 Axes>"
      ]
     },
     "metadata": {},
     "output_type": "display_data"
    }
   ],
   "source": [
    "S = {1, 2, 3}\n",
    "T = {0, 2, -1, 5}\n",
    "U = {1}\n",
    "venn.venn2([S, T], set_labels = ('S', 'T'))\n",
    "plt.show()"
   ]
  },
  {
   "cell_type": "code",
   "execution_count": 13,
   "id": "6e44fde7-4ce1-489c-8dcb-16c71427b819",
   "metadata": {},
   "outputs": [
    {
     "data": {
      "text/plain": [
       "<matplotlib_venn._common.VennDiagram at 0x7f21b17c4dd0>"
      ]
     },
     "execution_count": 13,
     "metadata": {},
     "output_type": "execute_result"
    },
    {
     "data": {
      "image/png": "[encoded data removed]",
      "text/plain": [
       "<Figure size 432x288 with 1 Axes>"
      ]
     },
     "metadata": {},
     "output_type": "display_data"
    }
   ],
   "source": [
    "venn.venn3([S, T, U], set_labels = ('S', 'T', 'U'))"
   ]
  },
  {
   "cell_type": "code",
   "execution_count": 17,
   "id": "3f09e79c-2f91-4e77-a1e8-8cce035b2378",
   "metadata": {},
   "outputs": [],
   "source": [
    "from itertools import product\n"
   ]
  },
  {
   "cell_type": "code",
   "execution_count": 18,
   "id": "719a94ac-eb14-4580-abc0-794013e1e88c",
   "metadata": {},
   "outputs": [],
   "source": [
    "Faces = set({'J', 'Q', 'K'})\n",
    "Suits = {'♠', '♡'}"
   ]
  },
  {
   "cell_type": "code",
   "execution_count": 19,
   "id": "6dca3b14-9b1d-412b-9e71-c2b9d350b255",
   "metadata": {},
   "outputs": [
    {
     "name": "stdout",
     "output_type": "stream",
     "text": [
      "('J', '♡')\n",
      "('J', '♠')\n",
      "('K', '♡')\n",
      "('K', '♠')\n",
      "('Q', '♡')\n",
      "('Q', '♠')\n"
     ]
    }
   ],
   "source": [
    "for i in product(Faces, Suits):\n",
    "    print(i)"
   ]
  },
  {
   "cell_type": "code",
   "execution_count": 21,
   "id": "942f4a48-416d-4342-bc86-5f66061c1525",
   "metadata": {},
   "outputs": [],
   "source": [
    "# Finding Prime. Using Eratosthenes\n",
    "from math import sqrt\n",
    "k = 100\n",
    "S = set(range(2,k))\n",
    "for j in range(2, int(sqrt(k))+1):\n",
    "    S -= set(range(2*j,k,j))"
   ]
  },
  {
   "cell_type": "code",
   "execution_count": 23,
   "id": "c90c8e5b-054a-4075-a96d-3487e3b1663d",
   "metadata": {},
   "outputs": [
    {
     "data": {
      "text/plain": [
       "'2,3,5,7,11,13,17,19,23,29,31,37,41,43,47,53,59,61,67,71,73,79,83,89,97'"
      ]
     },
     "execution_count": 23,
     "metadata": {},
     "output_type": "execute_result"
    }
   ],
   "source": [
    "','.join([str(i) for i in S])"
   ]
  }
 ],
 "metadata": {
  "kernelspec": {
   "display_name": "Python",
   "language": "python",
   "name": "conda-env-python-py"
  },
  "language_info": {
   "codemirror_mode": {
    "name": "ipython",
    "version": 3
   },
   "file_extension": ".py",
   "mimetype": "text/x-python",
   "name": "python",
   "nbconvert_exporter": "python",
   "pygments_lexer": "ipython3",
   "version": "3.7.10"
  }
 },
 "nbformat": 4,
 "nbformat_minor": 5
}
