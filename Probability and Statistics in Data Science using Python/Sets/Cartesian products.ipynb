{
 "cells": [
  {
   "cell_type": "code",
   "execution_count": 1,
   "id": "60f8b504-814d-4d2d-9b52-5b557bff952d",
   "metadata": {},
   "outputs": [],
   "source": [
    "def union(A, B):\n",
    "    # inputs: A and B are of type 'set'\n",
    "    # output: a tuple of the type (set, set_length)\n",
    "    #\n",
    "    # YOUR CODE HERE\n",
    "    #\n",
    "    Z = A.union(B)\n",
    "    l = [Z]\n",
    "    l.append(len(Z))\n",
    "    l=tuple(l)\n",
    "    #print(my_t)\n",
    "    #print(l)\n",
    "    return l"
   ]
  },
  {
   "cell_type": "code",
   "execution_count": 2,
   "id": "a498cb40-7dc7-4848-b9a1-fd755c14722d",
   "metadata": {},
   "outputs": [
    {
     "name": "stdout",
     "output_type": "stream",
     "text": [
      "passed\n"
     ]
    }
   ],
   "source": [
    "A = {1,4,-3, \"bob\"}\n",
    "B = {2,1,-3,\"jill\"}\n",
    "if(union(A,B) == ({-3, 1, 2, 4, 'bob', 'jill'}, 6)):\n",
    "    print('passed')"
   ]
  },
  {
   "cell_type": "code",
   "execution_count": 3,
   "id": "527ede1a-f9b8-4377-9f08-be6e6148cdf8",
   "metadata": {},
   "outputs": [],
   "source": [
    "def inclusion_exclusion(A, B):\n",
    "    # inputs: A and B are of type 'set'\n",
    "    # output: a tuple of four integers\n",
    "    \n",
    "    #\n",
    "    # YOUR CODE HERE\n",
    "    #\n",
    "    l = []\n",
    "    l.append(len(A))\n",
    "    l.append(len(B))\n",
    "    z = A.intersection(B)\n",
    "    l.append(len(z))\n",
    "    z = A.union(B)\n",
    "    l.append(len(z))\n",
    "    l = tuple(l)\n",
    "    return l"
   ]
  },
  {
   "cell_type": "code",
   "execution_count": 4,
   "id": "bce2bea0-20b2-4017-be2c-572d30915c35",
   "metadata": {},
   "outputs": [
    {
     "name": "stdout",
     "output_type": "stream",
     "text": [
      "passed\n"
     ]
    }
   ],
   "source": [
    "A = {1, 2, 3}\n",
    "B = {3, -6, 2, 0}\n",
    "if( inclusion_exclusion(A, B) == (3, 4, 2, 5)):\n",
    "    print('passed')"
   ]
  },
  {
   "cell_type": "code",
   "execution_count": 5,
   "id": "62a19c83-61f2-42c6-87a8-c51ce16b0f10",
   "metadata": {},
   "outputs": [],
   "source": [
    "# modify this cell\n",
    "\n",
    "def union3(A, B, C):\n",
    "    # inputs: A, B and C are of type 'set'\n",
    "    # output: a tuple of the type (set, set_length)\n",
    "    \n",
    "    #\n",
    "    # YOUR CODE HERE\n",
    "    #\n",
    "    Z = A.union(B)\n",
    "    Y = C.union(Z)\n",
    "    l = []\n",
    "    l.append(Y)\n",
    "    l.append(len(Y))\n",
    "    l = tuple(l)\n",
    "    print(l)\n",
    "    return l;"
   ]
  },
  {
   "cell_type": "code",
   "execution_count": 6,
   "id": "5a620f8d-b10b-406a-b3e9-e69a2808c6cc",
   "metadata": {},
   "outputs": [
    {
     "name": "stdout",
     "output_type": "stream",
     "text": [
      "({1, 2, 4, 5, 8, 9, 10, 13, -6}, 9)\n",
      "passed\n"
     ]
    }
   ],
   "source": [
    "# check Function\n",
    "A = {1, 2, 4, 5, 10}\n",
    "B = {5, 2, -6, 5, 8, 9}\n",
    "C = {2, 10, 13}\n",
    "if(union3(A,B,C) == ({-6, 1, 2, 4, 5, 8, 9, 10, 13}, 9)):\n",
    "    print('passed')\n",
    "\n",
    "#\n",
    "# AUTOGRADER TEST - DO NOT REMOVE\n",
    "#"
   ]
  },
  {
   "cell_type": "code",
   "execution_count": 7,
   "id": "ecba298e-997d-4f36-9d71-ef6b43c76d4c",
   "metadata": {},
   "outputs": [],
   "source": [
    "# modify this cell\n",
    "\n",
    "def inclusion_exclusion3(A, B, C):\n",
    "    # inputs: A, B and C are of type 'set'\n",
    "    # output: a tuple of two integers\n",
    "    \n",
    "    #\n",
    "    # YOUR CODE HERE\n",
    "    #\n",
    "    Z = A.union(B)\n",
    "    Y = C.union(Z)\n",
    "    G1 = A.intersection(B)\n",
    "    G2 = G1.intersection(C)\n",
    "    l = [len(G2), len(Y)]\n",
    "    l = tuple(l)\n",
    "    return l"
   ]
  },
  {
   "cell_type": "code",
   "execution_count": 8,
   "id": "750ddcfb-49f8-4ed9-85f1-863670405e5e",
   "metadata": {},
   "outputs": [
    {
     "name": "stdout",
     "output_type": "stream",
     "text": [
      "passed\n"
     ]
    }
   ],
   "source": [
    "\n",
    "A = {1, 2, 4, 5, 10}\n",
    "B = {5, 2, -6, 5, 8, 9, 10}\n",
    "C = {2, 10, 13}\n",
    "if (inclusion_exclusion3(A,B,C) == (2, 9)):\n",
    "    print('passed')\n",
    "\n",
    "#\n",
    "# AUTOGRADER TEST - DO NOT REMOVE\n",
    "#"
   ]
  },
  {
   "cell_type": "code",
   "execution_count": 9,
   "id": "943e315e-9e06-446b-8028-7f1b453b22cb",
   "metadata": {},
   "outputs": [],
   "source": [
    "def complement_of_union(A, B, U):\n",
    "    # inputs: A, B and U are of type 'set'\n",
    "    # output: a tuple of the type (set, set)\n",
    "    \n",
    "    #\n",
    "    # YOUR CODE HERE\n",
    "    #\n",
    "    Z = A.union(B)\n",
    "    Y = U - Z\n",
    "    lcs = [Z, Y]\n",
    "    lcs = tuple(lcs)\n",
    "    return lcs"
   ]
  },
  {
   "cell_type": "code",
   "execution_count": 10,
   "id": "7219dcaf-0633-41a4-957e-9ca34caeb685",
   "metadata": {},
   "outputs": [
    {
     "name": "stdout",
     "output_type": "stream",
     "text": [
      "passed\n"
     ]
    }
   ],
   "source": [
    "# Check Function\n",
    "\n",
    "A = {1, 2, 3, 4, 5}\n",
    "B = {0, 2, -6, 5, 8, 9}\n",
    "U = A|B|{-3, 7, 10, -4}\n",
    "if( complement_of_union(A, B, U) == ({-6, 0, 1, 2, 3, 4, 5, 8, 9}, {-4, -3, 7, 10})  ):\n",
    "    print('passed')\n",
    "\n",
    "#\n",
    "# AUTOGRADER TEST - DO NOT REMOVE\n",
    "#\n"
   ]
  },
  {
   "cell_type": "code",
   "execution_count": 11,
   "id": "f09a5890-60c0-424c-89b9-234472a2ae9e",
   "metadata": {},
   "outputs": [],
   "source": [
    "# modify this cell\n",
    "\n",
    "def intersection_of_complements(A, B, U):\n",
    "    # inputs: A, B and U are of type 'set'\n",
    "    # output: a tuple of the form (set, set)\n",
    "    \n",
    "    #\n",
    "    # YOUR CODE HERE\n",
    "    #\n",
    "    Z = A.union(B)\n",
    "    Z1 = U-Z\n",
    "    Y = U - A\n",
    "    lcs = [Y, Z1]\n",
    "    lcs = tuple(lcs)\n",
    "    return lcs"
   ]
  },
  {
   "cell_type": "code",
   "execution_count": 12,
   "id": "e19bad29-72f1-48f1-bd90-790a4699077c",
   "metadata": {},
   "outputs": [
    {
     "name": "stdout",
     "output_type": "stream",
     "text": [
      "passed\n"
     ]
    }
   ],
   "source": [
    "# Check Function\n",
    "\n",
    "A = {1, 2, 3, 4, 5}\n",
    "B = {0, 2, -6, 5, 8, 9}\n",
    "U = A|B|{-3, 7, 10, -4}\n",
    "if(  intersection_of_complements(A, B, U) == ({-6, -4, -3, 0, 7, 8, 9, 10}, {-4, -3, 7, 10})  ):\n",
    "    print('passed')\n",
    "\n",
    "#\n",
    "# AUTOGRADER TEST - DO NOT REMOVE\n",
    "#\n"
   ]
  },
  {
   "cell_type": "code",
   "execution_count": 13,
   "id": "cf28b8b6-fb45-457d-baac-53566bc90041",
   "metadata": {},
   "outputs": [],
   "source": [
    "import itertools\n",
    "from itertools import product"
   ]
  },
  {
   "cell_type": "code",
   "execution_count": 14,
   "id": "1eb4ee14-9100-4f98-b17b-33ec32430637",
   "metadata": {},
   "outputs": [],
   "source": [
    "def product_of_unions(A, B, S, T):\n",
    "    # inputs: A, B, S and T are sets\n",
    "    # output: a tuple of the type (set, set)\n",
    "    #\n",
    "    # YOUR CODE HERE\n",
    "    #\n",
    "    Z1 = A.union(B)\n",
    "    Z2 = S.union(T)\n",
    "    lcs = [Z1]\n",
    "    s = []\n",
    "    for item in product(Z1, Z2):\n",
    "        s.append(tuple(item))\n",
    "    s = set(s)\n",
    "    lcs.append(s)\n",
    "    lcs = tuple(lcs)\n",
    "    print(lcs)\n",
    "    return lcs\n",
    "    "
   ]
  },
  {
   "cell_type": "code",
   "execution_count": 15,
   "id": "671efea4-77e8-47fc-9bf8-e2ce431a3b00",
   "metadata": {},
   "outputs": [
    {
     "name": "stdout",
     "output_type": "stream",
     "text": [
      "({1, 2, 3}, {(3, 0), (3, 10), (2, -1), (3, -1), (2, 10), (2, 0), (1, 10), (1, 0), (1, -1)})\n",
      "passed\n"
     ]
    }
   ],
   "source": [
    "A = {1, 2}\n",
    "B = {1, 3}\n",
    "S = {-1, 0}\n",
    "T = {0, 10}\n",
    "if( product_of_unions(A, B, S, T) == \\\n",
    "       ({1, 2, 3},\n",
    " {(1, -1),\n",
    "  (1, 0),\n",
    "  (1, 10),\n",
    "  (2, -1),\n",
    "  (2, 0),\n",
    "  (2, 10),\n",
    "  (3, -1),\n",
    "  (3, 0),\n",
    "  (3, 10)})   ):\n",
    "    print('passed')\n",
    "\n",
    "#\n",
    "# AUTOGRADER TEST - DO NOT REMOVE\n",
    "#"
   ]
  },
  {
   "cell_type": "code",
   "execution_count": null,
   "id": "acc8f9ed-ec0f-41b4-af5c-702cfb2f345b",
   "metadata": {},
   "outputs": [],
   "source": []
  }
 ],
 "metadata": {
  "kernelspec": {
   "display_name": "Python",
   "language": "python",
   "name": "conda-env-python-py"
  },
  "language_info": {
   "codemirror_mode": {
    "name": "ipython",
    "version": 3
   },
   "file_extension": ".py",
   "mimetype": "text/x-python",
   "name": "python",
   "nbconvert_exporter": "python",
   "pygments_lexer": "ipython3",
   "version": "3.7.10"
  }
 },
 "nbformat": 4,
 "nbformat_minor": 5
}
