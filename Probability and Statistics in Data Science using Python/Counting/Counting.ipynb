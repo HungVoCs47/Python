{
 "cells": [
  {
   "cell_type": "code",
   "execution_count": 33,
   "id": "f447da29-1679-47bd-a6c0-9479655ca626",
   "metadata": {},
   "outputs": [
    {
     "name": "stdout",
     "output_type": "stream",
     "text": [
      "2\n"
     ]
    }
   ],
   "source": [
    "NewSet = {1, 2}\n",
    "print(len(NewSet))"
   ]
  },
  {
   "cell_type": "code",
   "execution_count": 34,
   "id": "f66d7cad-2e17-4b8e-a72c-6643846a4596",
   "metadata": {},
   "outputs": [
    {
     "name": "stdout",
     "output_type": "stream",
     "text": [
      "-5 9\n"
     ]
    }
   ],
   "source": [
    "NewSet = {-2,-5,9,2, 1, 3}\n",
    "print(min(NewSet),max(NewSet))"
   ]
  },
  {
   "cell_type": "code",
   "execution_count": 35,
   "id": "0d845c85-9b09-4a5a-a6c1-fd3acb3d1429",
   "metadata": {},
   "outputs": [
    {
     "name": "stdout",
     "output_type": "stream",
     "text": [
      "a z\n"
     ]
    }
   ],
   "source": [
    "Set = {'c','b','a','z'}\n",
    "print(min(Set),max(Set))"
   ]
  },
  {
   "cell_type": "code",
   "execution_count": 36,
   "id": "16031438-9f55-4148-9a61-6d828fe89e80",
   "metadata": {},
   "outputs": [
    {
     "name": "stdout",
     "output_type": "stream",
     "text": [
      "17\n"
     ]
    }
   ],
   "source": [
    "A = {1, 5, 2, -10, 19}\n",
    "print(sum(A))"
   ]
  },
  {
   "cell_type": "code",
   "execution_count": 37,
   "id": "17ef0999-30c9-41c3-80d4-cd5924ec272e",
   "metadata": {},
   "outputs": [
    {
     "name": "stdout",
     "output_type": "stream",
     "text": [
      "17\n"
     ]
    }
   ],
   "source": [
    "total=0\n",
    "for i in A:\n",
    "    total += i\n",
    "print(total)"
   ]
  },
  {
   "cell_type": "code",
   "execution_count": 38,
   "id": "ee7978e2-35c1-42a9-8d73-1b0430fe598d",
   "metadata": {},
   "outputs": [
    {
     "name": "stdout",
     "output_type": "stream",
     "text": [
      "[0, 1, 2, 3, 4, 5, 6, 7, 8, 9]\n",
      "0\n",
      "1\n",
      "2\n",
      "3\n",
      "4\n",
      "5\n",
      "6\n",
      "7\n",
      "8\n",
      "9\n"
     ]
    }
   ],
   "source": [
    "print(list(range(10)))\n",
    "for i in range(10):\n",
    "    print(i)"
   ]
  },
  {
   "cell_type": "code",
   "execution_count": 39,
   "id": "60f22eff-6619-4a3c-81a4-786432c430d3",
   "metadata": {},
   "outputs": [
    {
     "name": "stdout",
     "output_type": "stream",
     "text": [
      "Harry 83\n",
      "Paul 59\n",
      "Grace 92\n"
     ]
    }
   ],
   "source": [
    "a = [83,59,92]\n",
    "b = ['Harry','Paul','Grace']\n",
    "for i in range(3):\n",
    "    print(b[i],a[i])"
   ]
  },
  {
   "cell_type": "code",
   "execution_count": 40,
   "id": "bcf7d298-4def-4348-a942-3ec020f3160d",
   "metadata": {},
   "outputs": [
    {
     "name": "stdout",
     "output_type": "stream",
     "text": [
      "Harry 83\n",
      "Paul 59\n",
      "Grace 92\n"
     ]
    }
   ],
   "source": [
    "for a_, b_ in zip(a,b):\n",
    "    print(b_, a_)"
   ]
  },
  {
   "cell_type": "code",
   "execution_count": 41,
   "id": "5dfac140-b61e-4ef9-97d1-782c1850c709",
   "metadata": {},
   "outputs": [
    {
     "name": "stdout",
     "output_type": "stream",
     "text": [
      "0 Harry 83\n",
      "1 Paul 59\n",
      "2 Grace 92\n"
     ]
    }
   ],
   "source": [
    "for i,b_i,a_i in zip(range(len(b)),b,a):\n",
    "    print(i,b_i,a_i)"
   ]
  },
  {
   "cell_type": "code",
   "execution_count": 42,
   "id": "2b4d247a-8f0a-447c-994e-368250b11668",
   "metadata": {},
   "outputs": [
    {
     "name": "stdout",
     "output_type": "stream",
     "text": [
      "3 3\n"
     ]
    }
   ],
   "source": [
    "A = {1, 2, 3}\n",
    "B = {1, 3, 5}\n",
    "print(len(A),len(B))"
   ]
  },
  {
   "cell_type": "code",
   "execution_count": 43,
   "id": "b853df92-59d4-4765-aa93-e7d10b58cd9d",
   "metadata": {},
   "outputs": [],
   "source": [
    "#3.1 Disjoint Unions"
   ]
  },
  {
   "cell_type": "code",
   "execution_count": 44,
   "id": "46515507-e0cf-4c1b-9195-59d617305715",
   "metadata": {},
   "outputs": [
    {
     "name": "stdout",
     "output_type": "stream",
     "text": [
      "{1, 3} \n",
      " 2\n"
     ]
    }
   ],
   "source": [
    "# Intersection\n",
    "C = A & B\n",
    "print(C, \"\\n\", len(C))"
   ]
  },
  {
   "cell_type": "code",
   "execution_count": 45,
   "id": "5bf8eae6-eaf2-4e74-b4d9-83277034751f",
   "metadata": {},
   "outputs": [
    {
     "name": "stdout",
     "output_type": "stream",
     "text": [
      "{2} \n",
      " 1\n"
     ]
    }
   ],
   "source": [
    "# Difference\n",
    "E = A-B\n",
    "print(E, \"\\n\", len(E))"
   ]
  },
  {
   "cell_type": "code",
   "execution_count": 46,
   "id": "27e1831e-6634-4387-96cc-8ff56fb2c5c3",
   "metadata": {},
   "outputs": [],
   "source": [
    "# 3.2 General Unions"
   ]
  },
  {
   "cell_type": "code",
   "execution_count": 47,
   "id": "9dc4699a-75db-4da0-bb3d-9003524f902c",
   "metadata": {},
   "outputs": [],
   "source": [
    "D = A|B"
   ]
  },
  {
   "cell_type": "code",
   "execution_count": 51,
   "id": "6751a82b-52bc-4e90-ab7f-0e1a7bb40b19",
   "metadata": {},
   "outputs": [
    {
     "name": "stdout",
     "output_type": "stream",
     "text": [
      "{1, 2, 3, 5}\n",
      "4\n"
     ]
    }
   ],
   "source": [
    "print(D)\n",
    "print(len(D))\n",
    "g = len(A)+len(B)-len(C)"
   ]
  },
  {
   "cell_type": "code",
   "execution_count": 52,
   "id": "f02e0365-5c95-43b0-8c9b-4f589b2ed857",
   "metadata": {},
   "outputs": [
    {
     "name": "stdout",
     "output_type": "stream",
     "text": [
      "4\n"
     ]
    }
   ],
   "source": [
    "print(g)"
   ]
  },
  {
   "cell_type": "code",
   "execution_count": 57,
   "id": "a3076d11-8cad-4192-8055-25b259d2c620",
   "metadata": {},
   "outputs": [],
   "source": [
    "# 3.3 Cartesian Products"
   ]
  },
  {
   "cell_type": "code",
   "execution_count": 55,
   "id": "17cd87a8-1cf4-4f27-bced-c33673007b59",
   "metadata": {},
   "outputs": [],
   "source": [
    "import itertools\n",
    "from itertools import product"
   ]
  },
  {
   "cell_type": "code",
   "execution_count": 60,
   "id": "9c7e447f-708b-44f3-b023-aef30c2adbb9",
   "metadata": {},
   "outputs": [],
   "source": [
    "A = {1, 2, 3}\n",
    "B = {4, 5}"
   ]
  },
  {
   "cell_type": "code",
   "execution_count": 65,
   "id": "17c52895-71d2-4a9a-9142-c7512ec99945",
   "metadata": {},
   "outputs": [],
   "source": [
    "C = []"
   ]
  },
  {
   "cell_type": "code",
   "execution_count": 67,
   "id": "3544a56b-d98c-4c04-972c-4ef8f2e0f437",
   "metadata": {},
   "outputs": [
    {
     "name": "stdout",
     "output_type": "stream",
     "text": [
      "{(1, 4), (1, 5), (2, 5), (3, 4), (2, 4), (3, 5)}\n"
     ]
    }
   ],
   "source": [
    "for item in product(A, B):\n",
    "    C.append(tuple(item))\n",
    "C = set(C)\n",
    "print(C)"
   ]
  },
  {
   "cell_type": "code",
   "execution_count": 68,
   "id": "1a64adb1-6f1d-4584-bf25-6061ca4486e4",
   "metadata": {},
   "outputs": [
    {
     "name": "stdout",
     "output_type": "stream",
     "text": [
      "6\n",
      "6\n"
     ]
    }
   ],
   "source": [
    "print(len(C))\n",
    "print(len(A)*len(B))"
   ]
  },
  {
   "cell_type": "code",
   "execution_count": 69,
   "id": "b0b18546-a496-4cb7-bd0d-588d3141f82d",
   "metadata": {},
   "outputs": [],
   "source": [
    "# 3.3 Cartesian Powers\n"
   ]
  },
  {
   "cell_type": "code",
   "execution_count": 72,
   "id": "518fe934-6d87-4497-8883-35b740929098",
   "metadata": {},
   "outputs": [],
   "source": [
    "A = {1, 2, 3}\n",
    "k = 3"
   ]
  },
  {
   "cell_type": "code",
   "execution_count": 73,
   "id": "3b1e50f0-1d2d-4874-818c-69c7433f58eb",
   "metadata": {},
   "outputs": [
    {
     "name": "stdout",
     "output_type": "stream",
     "text": [
      "{(1, 3, 2), (1, 3, 1), (3, 3, 1), (2, 3, 1), (3, 3, 3), (2, 3, 2), (3, 3, 2), (2, 3, 3), (3, 2, 2), (3, 1, 3), (3, 2, 3), (3, 1, 2), (1, 2, 1), (3, 1, 1), (3, 2, 1), (1, 2, 2), (1, 2, 3), (2, 1, 2), (2, 2, 3), (1, 1, 1), (2, 1, 3), (2, 2, 2), (1, 1, 3), (2, 2, 1), (2, 1, 1), (1, 1, 2), (1, 3, 3)}\n"
     ]
    }
   ],
   "source": [
    "lcs = []\n",
    "for item in product(A, repeat = k):\n",
    "    lcs.append(tuple(item))\n",
    "lcs = set(lcs)\n",
    "print(lcs)\n",
    "    "
   ]
  },
  {
   "cell_type": "code",
   "execution_count": 74,
   "id": "776a4074-5ed9-47d4-9ff6-c8c2bac24d90",
   "metadata": {},
   "outputs": [
    {
     "name": "stdout",
     "output_type": "stream",
     "text": [
      "27\n"
     ]
    }
   ],
   "source": [
    "print(len(lcs))\n"
   ]
  },
  {
   "cell_type": "code",
   "execution_count": 76,
   "id": "104ebc1d-6e4b-4874-88db-7854c11c5f4e",
   "metadata": {},
   "outputs": [
    {
     "name": "stdout",
     "output_type": "stream",
     "text": [
      "27\n"
     ]
    }
   ],
   "source": [
    "print(len(A)**k)"
   ]
  },
  {
   "cell_type": "code",
   "execution_count": 77,
   "id": "747b5869-70db-4db2-888f-011b81fb03f4",
   "metadata": {},
   "outputs": [],
   "source": [
    "import matplotlib.pyplot as plt\n",
    "import numpy as np\n",
    "import ipywidgets as widgets # A library for generating sludes for interaction "
   ]
  },
  {
   "cell_type": "code",
   "execution_count": 87,
   "id": "332ebfdf-19a1-4489-88a0-494cc59f862e",
   "metadata": {},
   "outputs": [
    {
     "data": {
      "application/vnd.jupyter.widget-view+json": {
       "model_id": "c0d542823df4487ea44a6709046cc1fe",
       "version_major": 2,
       "version_minor": 0
      },
      "text/plain": [
       "interactive(children=(FloatSlider(value=5.5, description='x_max', max=10.0, min=1.0), Output()), _dom_classes=…"
      ]
     },
     "metadata": {},
     "output_type": "display_data"
    }
   ],
   "source": [
    "@widgets.interact(x_max=(1,10.0),continuous_update=False)\n",
    "def f(x_max):\n",
    "    x = np.arange(0, x_max, 0.01)\n",
    "    y1 = x\n",
    "    y2 = x**2\n",
    "    y3 = 2**x\n",
    "    plt.plot(x, y1, label = '$x$')\n",
    "    plt.plot(x, y2, label = '$x^2$')\n",
    "    plt.plot(x, y3, label = '$2^x$')\n",
    "    plt.xlabel('x', fontsize = 10)\n",
    "    plt.legend(loc = 'upper left')\n",
    "    plt.xlim([0, x_max])\n",
    "    #plt.ylim([0, max(2**x_max, x_max**2)])\n",
    "    plt.show()\n",
    "    "
   ]
  },
  {
   "cell_type": "code",
   "execution_count": null,
   "id": "d9f0a846-f9b6-440a-b661-cc53a8f71681",
   "metadata": {},
   "outputs": [],
   "source": []
  }
 ],
 "metadata": {
  "kernelspec": {
   "display_name": "Python",
   "language": "python",
   "name": "conda-env-python-py"
  },
  "language_info": {
   "codemirror_mode": {
    "name": "ipython",
    "version": 3
   },
   "file_extension": ".py",
   "mimetype": "text/x-python",
   "name": "python",
   "nbconvert_exporter": "python",
   "pygments_lexer": "ipython3",
   "version": "3.7.10"
  }
 },
 "nbformat": 4,
 "nbformat_minor": 5
}
