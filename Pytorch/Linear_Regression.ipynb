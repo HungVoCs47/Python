{
  "nbformat": 4,
  "nbformat_minor": 0,
  "metadata": {
    "colab": {
      "provenance": []
    },
    "kernelspec": {
      "name": "python3",
      "display_name": "Python 3"
    },
    "language_info": {
      "name": "python"
    },
    "accelerator": "GPU",
    "gpuClass": "standard"
  },
  "cells": [
    {
      "cell_type": "markdown",
      "source": [
        "# Linear Regression"
      ],
      "metadata": {
        "id": "r52m5Tuvps_8"
      }
    },
    {
      "cell_type": "code",
      "execution_count": null,
      "metadata": {
        "id": "XeZSujz7kwfl",
        "colab": {
          "base_uri": "https://localhost:8080/",
          "height": 35
        },
        "outputId": "1b48ea96-8a5a-4e90-f504-bf005a78c009"
      },
      "outputs": [
        {
          "output_type": "execute_result",
          "data": {
            "text/plain": [
              "'1.13.1+cu116'"
            ],
            "application/vnd.google.colaboratory.intrinsic+json": {
              "type": "string"
            }
          },
          "metadata": {},
          "execution_count": 1
        }
      ],
      "source": [
        "import torch\n",
        "from torch import nn ## nn contains building blocks\n",
        "import matplotlib.pyplot as plt\n",
        "\n",
        "torch.__version__\n"
      ]
    },
    {
      "cell_type": "code",
      "source": [
        "# Create *known* parameter\n",
        "weight = 0.7\n",
        "bias = 0.3\n",
        "\n",
        "start = 0\n",
        "end = 1\n",
        "step = 0.02\n",
        "\n",
        "X = torch.arange(start, end, step).unsqueeze(dim = 1)\n",
        "y = weight * X + bias\n",
        "\n",
        "X, y"
      ],
      "metadata": {
        "colab": {
          "base_uri": "https://localhost:8080/"
        },
        "id": "f9cpu3Irnyxn",
        "outputId": "6f0ffb79-10dd-4079-97b7-9ffa6a47e35f"
      },
      "execution_count": null,
      "outputs": [
        {
          "output_type": "execute_result",
          "data": {
            "text/plain": [
              "(tensor([[0.0000],\n",
              "         [0.0200],\n",
              "         [0.0400],\n",
              "         [0.0600],\n",
              "         [0.0800],\n",
              "         [0.1000],\n",
              "         [0.1200],\n",
              "         [0.1400],\n",
              "         [0.1600],\n",
              "         [0.1800],\n",
              "         [0.2000],\n",
              "         [0.2200],\n",
              "         [0.2400],\n",
              "         [0.2600],\n",
              "         [0.2800],\n",
              "         [0.3000],\n",
              "         [0.3200],\n",
              "         [0.3400],\n",
              "         [0.3600],\n",
              "         [0.3800],\n",
              "         [0.4000],\n",
              "         [0.4200],\n",
              "         [0.4400],\n",
              "         [0.4600],\n",
              "         [0.4800],\n",
              "         [0.5000],\n",
              "         [0.5200],\n",
              "         [0.5400],\n",
              "         [0.5600],\n",
              "         [0.5800],\n",
              "         [0.6000],\n",
              "         [0.6200],\n",
              "         [0.6400],\n",
              "         [0.6600],\n",
              "         [0.6800],\n",
              "         [0.7000],\n",
              "         [0.7200],\n",
              "         [0.7400],\n",
              "         [0.7600],\n",
              "         [0.7800],\n",
              "         [0.8000],\n",
              "         [0.8200],\n",
              "         [0.8400],\n",
              "         [0.8600],\n",
              "         [0.8800],\n",
              "         [0.9000],\n",
              "         [0.9200],\n",
              "         [0.9400],\n",
              "         [0.9600],\n",
              "         [0.9800]]), tensor([[0.3000],\n",
              "         [0.3140],\n",
              "         [0.3280],\n",
              "         [0.3420],\n",
              "         [0.3560],\n",
              "         [0.3700],\n",
              "         [0.3840],\n",
              "         [0.3980],\n",
              "         [0.4120],\n",
              "         [0.4260],\n",
              "         [0.4400],\n",
              "         [0.4540],\n",
              "         [0.4680],\n",
              "         [0.4820],\n",
              "         [0.4960],\n",
              "         [0.5100],\n",
              "         [0.5240],\n",
              "         [0.5380],\n",
              "         [0.5520],\n",
              "         [0.5660],\n",
              "         [0.5800],\n",
              "         [0.5940],\n",
              "         [0.6080],\n",
              "         [0.6220],\n",
              "         [0.6360],\n",
              "         [0.6500],\n",
              "         [0.6640],\n",
              "         [0.6780],\n",
              "         [0.6920],\n",
              "         [0.7060],\n",
              "         [0.7200],\n",
              "         [0.7340],\n",
              "         [0.7480],\n",
              "         [0.7620],\n",
              "         [0.7760],\n",
              "         [0.7900],\n",
              "         [0.8040],\n",
              "         [0.8180],\n",
              "         [0.8320],\n",
              "         [0.8460],\n",
              "         [0.8600],\n",
              "         [0.8740],\n",
              "         [0.8880],\n",
              "         [0.9020],\n",
              "         [0.9160],\n",
              "         [0.9300],\n",
              "         [0.9440],\n",
              "         [0.9580],\n",
              "         [0.9720],\n",
              "         [0.9860]]))"
            ]
          },
          "metadata": {},
          "execution_count": 2
        }
      ]
    },
    {
      "cell_type": "code",
      "source": [
        "len(X), len(y)"
      ],
      "metadata": {
        "colab": {
          "base_uri": "https://localhost:8080/"
        },
        "id": "7TAFuTePqwng",
        "outputId": "a426000c-bfa1-46b7-d14e-0e053fd3e465"
      },
      "execution_count": null,
      "outputs": [
        {
          "output_type": "execute_result",
          "data": {
            "text/plain": [
              "(50, 50)"
            ]
          },
          "metadata": {},
          "execution_count": 3
        }
      ]
    },
    {
      "cell_type": "code",
      "source": [
        "train_split = int(len(X)*0.8)\n",
        "X_train, y_train = X[:train_split], y[:train_split]\n",
        "X_test, y_test = X[train_split:], y[train_split:]\n",
        "len(X_train), len(X_test)"
      ],
      "metadata": {
        "colab": {
          "base_uri": "https://localhost:8080/"
        },
        "id": "wImoAYiMsD25",
        "outputId": "317d016d-a0ad-446c-af89-72a9680fd8da"
      },
      "execution_count": null,
      "outputs": [
        {
          "output_type": "execute_result",
          "data": {
            "text/plain": [
              "(40, 10)"
            ]
          },
          "metadata": {},
          "execution_count": 4
        }
      ]
    },
    {
      "cell_type": "code",
      "source": [
        "def plt_(train_data = X_train, \n",
        "         train_label = y_train, \n",
        "         test_data = X_test,\n",
        "         test_label = y_test,\n",
        "         predictions = None):\n",
        "  plt.figure(figsize = (10,7))\n",
        "  plt.scatter(train_data, train_label, c = \"b\", s = 4, label = \"Training data\")\n",
        "  plt.scatter(test_data, test_label, c = \"g\", s = 4, label = \"Testing data\")\n",
        "  if predictions is not None:\n",
        "    plt.scatter(test_data, predictions, c = \"r\", s = 4, label = \"Predictions\")\n",
        "  plt.legend(prop = {\"size\":14})\n",
        "\n"
      ],
      "metadata": {
        "id": "ThKya0mPq0MO"
      },
      "execution_count": null,
      "outputs": []
    },
    {
      "cell_type": "code",
      "source": [
        "plt_()"
      ],
      "metadata": {
        "colab": {
          "base_uri": "https://localhost:8080/",
          "height": 428
        },
        "id": "9NWUZyU3vB_d",
        "outputId": "89a1ca7d-551d-4a2d-c842-2ff3de0b9d2f"
      },
      "execution_count": null,
      "outputs": [
        {
          "output_type": "display_data",
          "data": {
            "text/plain": [
              "<Figure size 720x504 with 1 Axes>"
            ],
            "image/png": "[encoded data removed]"
          },
          "metadata": {
            "needs_background": "light"
          }
        }
      ]
    },
    {
      "cell_type": "code",
      "source": [
        "class LinearRegression(nn.Module):\n",
        "  def __init__(self):\n",
        "    super().__init__()\n",
        "    self.weights = nn.Parameter(torch.rand(1, requires_grad = True, dtype = torch.float))\n",
        "    self.bias = nn.Parameter(torch.randn(1, requires_grad=True, dtype = torch.float))\n",
        "\n",
        "  def forward(self, x: torch.Tensor) -> torch.Tensor:\n",
        "    return self.weights * x + self.bias"
      ],
      "metadata": {
        "id": "dOiJWEgGvGfk"
      },
      "execution_count": null,
      "outputs": []
    },
    {
      "cell_type": "code",
      "source": [
        "# Preprocessing data: torch.transforms, torch.utils.data.Dataset, torch.utils.data.Dataloader\n",
        "# Build model: torch.nn, torch.nn.Module, torchvision.models\n",
        "# Model evaluate: torchmetrics\n",
        "# Improve: torch.utils.tensorboard\n"
      ],
      "metadata": {
        "id": "TSQbZV-7xteU"
      },
      "execution_count": null,
      "outputs": []
    },
    {
      "cell_type": "code",
      "source": [
        "torch.manual_seed(42)\n",
        "model_0 = LinearRegression()\n",
        "list(model_0.parameters())"
      ],
      "metadata": {
        "colab": {
          "base_uri": "https://localhost:8080/"
        },
        "id": "WPutZFiA8Jpm",
        "outputId": "574db8ba-ab75-40a0-e6db-18a51ab191c1"
      },
      "execution_count": null,
      "outputs": [
        {
          "output_type": "execute_result",
          "data": {
            "text/plain": [
              "[Parameter containing:\n",
              " tensor([0.8823], requires_grad=True), Parameter containing:\n",
              " tensor([-0.6382], requires_grad=True)]"
            ]
          },
          "metadata": {},
          "execution_count": 9
        }
      ]
    },
    {
      "cell_type": "code",
      "source": [
        "model_0.state_dict()"
      ],
      "metadata": {
        "colab": {
          "base_uri": "https://localhost:8080/"
        },
        "id": "oKyOXN8c_b1A",
        "outputId": "9cd7fde3-d868-4170-e044-b73e6a2af362"
      },
      "execution_count": null,
      "outputs": [
        {
          "output_type": "execute_result",
          "data": {
            "text/plain": [
              "OrderedDict([('weights', tensor([0.8823])), ('bias', tensor([-0.6382]))])"
            ]
          },
          "metadata": {},
          "execution_count": 10
        }
      ]
    },
    {
      "cell_type": "code",
      "source": [
        "with torch.inference_mode():\n",
        "  y_preds = model_0(X_test)\n",
        "\n",
        "y_preds\n"
      ],
      "metadata": {
        "colab": {
          "base_uri": "https://localhost:8080/"
        },
        "id": "iQNQeLYqAUOJ",
        "outputId": "71793eaa-2b81-4a52-b1f7-9980ef266be0"
      },
      "execution_count": null,
      "outputs": [
        {
          "output_type": "execute_result",
          "data": {
            "text/plain": [
              "tensor([[0.0677],\n",
              "        [0.0853],\n",
              "        [0.1030],\n",
              "        [0.1206],\n",
              "        [0.1382],\n",
              "        [0.1559],\n",
              "        [0.1735],\n",
              "        [0.1912],\n",
              "        [0.2088],\n",
              "        [0.2265]])"
            ]
          },
          "metadata": {},
          "execution_count": 11
        }
      ]
    },
    {
      "cell_type": "code",
      "source": [
        "plt_(predictions = y_preds)"
      ],
      "metadata": {
        "colab": {
          "base_uri": "https://localhost:8080/",
          "height": 428
        },
        "id": "eZ_v1cizIVdE",
        "outputId": "494ee691-e086-4de3-daa6-b9f39d667002"
      },
      "execution_count": null,
      "outputs": [
        {
          "output_type": "display_data",
          "data": {
            "text/plain": [
              "<Figure size 720x504 with 1 Axes>"
            ],
            "image/png": "[encoded data removed]"
          },
          "metadata": {
            "needs_background": "light"
          }
        }
      ]
    },
    {
      "cell_type": "code",
      "source": [
        "loss_fn = nn.L1Loss()\n",
        "optimizer = torch.optim.SGD(model_0.parameters(),\n",
        "                            lr = 1e-4)"
      ],
      "metadata": {
        "id": "X1ayHYdiIbMo"
      },
      "execution_count": null,
      "outputs": []
    },
    {
      "cell_type": "code",
      "source": [
        "epochs = 10000\n",
        "epoch_count = []\n",
        "loss_values = []\n",
        "test_loss_values =  []\n",
        "\n",
        "for epoch in range(epochs):\n",
        "  model_0.train()\n",
        "  y_pred = model_0(X_train)\n",
        "  loss = loss_fn(y_pred, y_train)\n",
        "  #print(f\"Loss: {loss}\")\n",
        "  optimizer.zero_grad()\n",
        "  loss.backward()\n",
        "  optimizer.step()\n",
        "  model_0.eval()\n",
        "  with torch.inference_mode():\n",
        "    test_pred = model_0(X_test)\n",
        "    test_loss = loss_fn(test_pred, y_test)\n",
        "  if epoch % 100 == 0:\n",
        "    epoch_count.append(epoch)\n",
        "    loss_values.append(loss)\n",
        "    test_loss_values.append(test_loss)\n",
        "    print(f\"Epoch: {epoch} | Loss: {loss} | Test Loss : {test_loss}\")\n"
      ],
      "metadata": {
        "colab": {
          "base_uri": "https://localhost:8080/"
        },
        "id": "-GkCxN5sKpwm",
        "outputId": "39fa6de6-4a28-4b21-fba6-0c3d80d4c742"
      },
      "execution_count": null,
      "outputs": [
        {
          "output_type": "stream",
          "name": "stdout",
          "text": [
            "Epoch: 0 | Loss: 0.8670692443847656 | Test Loss : 0.7757998704910278\n",
            "Epoch: 100 | Loss: 0.855547308921814 | Test Loss : 0.7623288035392761\n",
            "Epoch: 200 | Loss: 0.8440253138542175 | Test Loss : 0.748857855796814\n",
            "Epoch: 300 | Loss: 0.8325034379959106 | Test Loss : 0.7353867292404175\n",
            "Epoch: 400 | Loss: 0.820981502532959 | Test Loss : 0.7219158411026001\n",
            "Epoch: 500 | Loss: 0.8094595074653625 | Test Loss : 0.7084447741508484\n",
            "Epoch: 600 | Loss: 0.7979375123977661 | Test Loss : 0.6949738264083862\n",
            "Epoch: 700 | Loss: 0.786415696144104 | Test Loss : 0.6815026998519897\n",
            "Epoch: 800 | Loss: 0.7748937606811523 | Test Loss : 0.6680318117141724\n",
            "Epoch: 900 | Loss: 0.7633718252182007 | Test Loss : 0.6545607447624207\n",
            "Epoch: 1000 | Loss: 0.7518497705459595 | Test Loss : 0.6410897970199585\n",
            "Epoch: 1100 | Loss: 0.7403279542922974 | Test Loss : 0.627618670463562\n",
            "Epoch: 1200 | Loss: 0.7288059592247009 | Test Loss : 0.6141477823257446\n",
            "Epoch: 1300 | Loss: 0.7172839641571045 | Test Loss : 0.6006767153739929\n",
            "Epoch: 1400 | Loss: 0.7057626843452454 | Test Loss : 0.5872063636779785\n",
            "Epoch: 1500 | Loss: 0.6942437291145325 | Test Loss : 0.5737383365631104\n",
            "Epoch: 1600 | Loss: 0.6827247738838196 | Test Loss : 0.5602703094482422\n",
            "Epoch: 1700 | Loss: 0.6712058186531067 | Test Loss : 0.5468022227287292\n",
            "Epoch: 1800 | Loss: 0.6596868634223938 | Test Loss : 0.5333342552185059\n",
            "Epoch: 1900 | Loss: 0.6481679081916809 | Test Loss : 0.5198662281036377\n",
            "Epoch: 2000 | Loss: 0.636648952960968 | Test Loss : 0.5063982009887695\n",
            "Epoch: 2100 | Loss: 0.6251300573348999 | Test Loss : 0.4929301142692566\n",
            "Epoch: 2200 | Loss: 0.613611102104187 | Test Loss : 0.4794621467590332\n",
            "Epoch: 2300 | Loss: 0.6020920872688293 | Test Loss : 0.46599411964416504\n",
            "Epoch: 2400 | Loss: 0.5905731320381165 | Test Loss : 0.4525260925292969\n",
            "Epoch: 2500 | Loss: 0.5790541768074036 | Test Loss : 0.4390580654144287\n",
            "Epoch: 2600 | Loss: 0.5675352215766907 | Test Loss : 0.42559003829956055\n",
            "Epoch: 2700 | Loss: 0.556016206741333 | Test Loss : 0.4121220111846924\n",
            "Epoch: 2800 | Loss: 0.5444973111152649 | Test Loss : 0.39865392446517944\n",
            "Epoch: 2900 | Loss: 0.5329782962799072 | Test Loss : 0.38518595695495605\n",
            "Epoch: 3000 | Loss: 0.5214594602584839 | Test Loss : 0.3717179000377655\n",
            "Epoch: 3100 | Loss: 0.5099404454231262 | Test Loss : 0.3582499027252197\n",
            "Epoch: 3200 | Loss: 0.49842149019241333 | Test Loss : 0.3447818160057068\n",
            "Epoch: 3300 | Loss: 0.48690253496170044 | Test Loss : 0.3313138484954834\n",
            "Epoch: 3400 | Loss: 0.47538357973098755 | Test Loss : 0.31784579157829285\n",
            "Epoch: 3500 | Loss: 0.46386462450027466 | Test Loss : 0.30437779426574707\n",
            "Epoch: 3600 | Loss: 0.45234566926956177 | Test Loss : 0.2909097373485565\n",
            "Epoch: 3700 | Loss: 0.4408267140388489 | Test Loss : 0.27744174003601074\n",
            "Epoch: 3800 | Loss: 0.429307758808136 | Test Loss : 0.2639736831188202\n",
            "Epoch: 3900 | Loss: 0.4177885055541992 | Test Loss : 0.25050535798072815\n",
            "Epoch: 4000 | Loss: 0.40626806020736694 | Test Loss : 0.237035870552063\n",
            "Epoch: 4100 | Loss: 0.39474764466285706 | Test Loss : 0.22356633841991425\n",
            "Epoch: 4200 | Loss: 0.3832271695137024 | Test Loss : 0.2100968062877655\n",
            "Epoch: 4300 | Loss: 0.3717067539691925 | Test Loss : 0.19662731885910034\n",
            "Epoch: 4400 | Loss: 0.36018630862236023 | Test Loss : 0.1831578016281128\n",
            "Epoch: 4500 | Loss: 0.34866583347320557 | Test Loss : 0.16968826949596405\n",
            "Epoch: 4600 | Loss: 0.3371453881263733 | Test Loss : 0.1562187373638153\n",
            "Epoch: 4700 | Loss: 0.3256249725818634 | Test Loss : 0.14274923503398895\n",
            "Epoch: 4800 | Loss: 0.31410452723503113 | Test Loss : 0.1292797178030014\n",
            "Epoch: 4900 | Loss: 0.30258405208587646 | Test Loss : 0.11581020057201385\n",
            "Epoch: 5000 | Loss: 0.2910636067390442 | Test Loss : 0.1023406833410263\n",
            "Epoch: 5100 | Loss: 0.2795431613922119 | Test Loss : 0.08887116611003876\n",
            "Epoch: 5200 | Loss: 0.26802271604537964 | Test Loss : 0.07540164887905121\n",
            "Epoch: 5300 | Loss: 0.25650227069854736 | Test Loss : 0.06193213537335396\n",
            "Epoch: 5400 | Loss: 0.2449818104505539 | Test Loss : 0.04846261814236641\n",
            "Epoch: 5500 | Loss: 0.2334613800048828 | Test Loss : 0.035135187208652496\n",
            "Epoch: 5600 | Loss: 0.22194094955921173 | Test Loss : 0.0257334653288126\n",
            "Epoch: 5700 | Loss: 0.21042051911354065 | Test Loss : 0.021026920527219772\n",
            "Epoch: 5800 | Loss: 0.19890005886554718 | Test Loss : 0.0206863172352314\n",
            "Epoch: 5900 | Loss: 0.1873796135187149 | Test Loss : 0.02487054467201233\n",
            "Epoch: 6000 | Loss: 0.17585916817188263 | Test Loss : 0.03337514400482178\n",
            "Epoch: 6100 | Loss: 0.16433878242969513 | Test Loss : 0.045823950320482254\n",
            "Epoch: 6200 | Loss: 0.15434417128562927 | Test Loss : 0.05824492126703262\n",
            "Epoch: 6300 | Loss: 0.14583316445350647 | Test Loss : 0.06959588825702667\n",
            "Epoch: 6400 | Loss: 0.13856609165668488 | Test Loss : 0.07996051013469696\n",
            "Epoch: 6500 | Loss: 0.13236311078071594 | Test Loss : 0.08941460400819778\n",
            "Epoch: 6600 | Loss: 0.12705451250076294 | Test Loss : 0.09803681820631027\n",
            "Epoch: 6700 | Loss: 0.12248529493808746 | Test Loss : 0.10591697692871094\n",
            "Epoch: 6800 | Loss: 0.11851322650909424 | Test Loss : 0.11314432322978973\n",
            "Epoch: 6900 | Loss: 0.11500474065542221 | Test Loss : 0.11983256042003632\n",
            "Epoch: 7000 | Loss: 0.11192339658737183 | Test Loss : 0.12600095570087433\n",
            "Epoch: 7100 | Loss: 0.10932467877864838 | Test Loss : 0.13150370121002197\n",
            "Epoch: 7200 | Loss: 0.10690035670995712 | Test Loss : 0.13675391674041748\n",
            "Epoch: 7300 | Loss: 0.10487282276153564 | Test Loss : 0.14139199256896973\n",
            "Epoch: 7400 | Loss: 0.10296909511089325 | Test Loss : 0.14580678939819336\n",
            "Epoch: 7500 | Loss: 0.10136773437261581 | Test Loss : 0.14970052242279053\n",
            "Epoch: 7600 | Loss: 0.09978872537612915 | Test Loss : 0.15354232490062714\n",
            "Epoch: 7700 | Loss: 0.0985482856631279 | Test Loss : 0.15669246017932892\n",
            "Epoch: 7800 | Loss: 0.09730783849954605 | Test Loss : 0.15984265506267548\n",
            "Epoch: 7900 | Loss: 0.0961875468492508 | Test Loss : 0.1626921445131302\n",
            "Epoch: 8000 | Loss: 0.09524483978748322 | Test Loss : 0.16510894894599915\n",
            "Epoch: 8100 | Loss: 0.09430210292339325 | Test Loss : 0.16752572357654572\n",
            "Epoch: 8200 | Loss: 0.0933912992477417 | Test Loss : 0.16984274983406067\n",
            "Epoch: 8300 | Loss: 0.09268589317798615 | Test Loss : 0.17154674232006073\n",
            "Epoch: 8400 | Loss: 0.09198053181171417 | Test Loss : 0.17325067520141602\n",
            "Epoch: 8500 | Loss: 0.09127514064311981 | Test Loss : 0.1749546080827713\n",
            "Epoch: 8600 | Loss: 0.09056975692510605 | Test Loss : 0.17665858566761017\n",
            "Epoch: 8700 | Loss: 0.09002812206745148 | Test Loss : 0.17768315970897675\n",
            "Epoch: 8800 | Loss: 0.08949771523475647 | Test Loss : 0.17866437137126923\n",
            "Epoch: 8900 | Loss: 0.08896730840206146 | Test Loss : 0.1796455830335617\n",
            "Epoch: 9000 | Loss: 0.08843689411878586 | Test Loss : 0.1806267946958542\n",
            "Epoch: 9100 | Loss: 0.08790648728609085 | Test Loss : 0.18160800635814667\n",
            "Epoch: 9200 | Loss: 0.08738681674003601 | Test Loss : 0.18251903355121613\n",
            "Epoch: 9300 | Loss: 0.08697401732206345 | Test Loss : 0.18279874324798584\n",
            "Epoch: 9400 | Loss: 0.08656124770641327 | Test Loss : 0.18307845294475555\n",
            "Epoch: 9500 | Loss: 0.0861484557390213 | Test Loss : 0.1833581179380417\n",
            "Epoch: 9600 | Loss: 0.08573567867279053 | Test Loss : 0.1836378127336502\n",
            "Epoch: 9700 | Loss: 0.08532287925481796 | Test Loss : 0.18391752243041992\n",
            "Epoch: 9800 | Loss: 0.08491010963916779 | Test Loss : 0.18419723212718964\n",
            "Epoch: 9900 | Loss: 0.08449731022119522 | Test Loss : 0.18447692692279816\n"
          ]
        }
      ]
    },
    {
      "cell_type": "code",
      "source": [
        "with torch.inference_mode():\n",
        "  y_preds = model_0(X_test)\n",
        "plt_(predictions = y_preds)"
      ],
      "metadata": {
        "colab": {
          "base_uri": "https://localhost:8080/",
          "height": 428
        },
        "id": "3V6URPzSgs7R",
        "outputId": "35398e71-c4f0-4d92-b72c-9b4134c87b0e"
      },
      "execution_count": null,
      "outputs": [
        {
          "output_type": "display_data",
          "data": {
            "text/plain": [
              "<Figure size 720x504 with 1 Axes>"
            ],
            "image/png": "[encoded data removed]"
          },
          "metadata": {
            "needs_background": "light"
          }
        }
      ]
    },
    {
      "cell_type": "code",
      "source": [
        "plt.plot(epoch_count, torch.tensor(loss_values).numpy(), label = \"train_loss\")\n",
        "plt.plot(epoch_count, torch.tensor(test_loss_values).numpy(), label = \"test_loss\")\n",
        "plt.title(\"Training and test loss curves\")\n",
        "plt.ylabel(\"loss\")\n",
        "plt.xlabel(\"epochs\")\n",
        "plt.legend()"
      ],
      "metadata": {
        "colab": {
          "base_uri": "https://localhost:8080/",
          "height": 312
        },
        "id": "rDTgcyuKNm3i",
        "outputId": "2357f378-5d90-4288-ab72-bc12ed0dab42"
      },
      "execution_count": null,
      "outputs": [
        {
          "output_type": "execute_result",
          "data": {
            "text/plain": [
              "<matplotlib.legend.Legend at 0x7f7882a50370>"
            ]
          },
          "metadata": {},
          "execution_count": 16
        },
        {
          "output_type": "display_data",
          "data": {
            "text/plain": [
              "<Figure size 432x288 with 1 Axes>"
            ],
            "image/png": "[encoded data removed]"
          },
          "metadata": {
            "needs_background": "light"
          }
        }
      ]
    },
    {
      "cell_type": "code",
      "source": [
        "model_0.state_dict()"
      ],
      "metadata": {
        "id": "lMKJyTpag9Pl",
        "colab": {
          "base_uri": "https://localhost:8080/"
        },
        "outputId": "f0f74c54-95ea-492d-82c9-3342c6296050"
      },
      "execution_count": null,
      "outputs": [
        {
          "output_type": "execute_result",
          "data": {
            "text/plain": [
              "OrderedDict([('weights', tensor([1.1133])), ('bias', tensor([0.1169]))])"
            ]
          },
          "metadata": {},
          "execution_count": 17
        }
      ]
    },
    {
      "cell_type": "code",
      "source": [
        "model_name = \"/linear regression.pth\"\n",
        "Model_PATH = \"/content/sample_data\" + model_name\n",
        "torch.save(obj = model_0.state_dict(), f = Model_PATH)\n"
      ],
      "metadata": {
        "id": "mmlgxWbFwFYZ"
      },
      "execution_count": null,
      "outputs": []
    },
    {
      "cell_type": "code",
      "source": [
        "loaded_model_0 = LinearRegression()\n",
        "loaded_model_0.load_state_dict(torch.load(f=Model_PATH))"
      ],
      "metadata": {
        "colab": {
          "base_uri": "https://localhost:8080/"
        },
        "id": "eCwBDtzqw4cw",
        "outputId": "5f693f06-8658-414e-c5e0-c7e822e0b14a"
      },
      "execution_count": null,
      "outputs": [
        {
          "output_type": "execute_result",
          "data": {
            "text/plain": [
              "<All keys matched successfully>"
            ]
          },
          "metadata": {},
          "execution_count": 19
        }
      ]
    },
    {
      "cell_type": "markdown",
      "source": [
        "#Linear Regression V2"
      ],
      "metadata": {
        "id": "l9NuxMnj8Z3T"
      }
    },
    {
      "cell_type": "code",
      "source": [
        "# nn.linear applies a linear transformation to the incoming data y = xA^T + b\n",
        "class LinearRegressionV2(nn.Module):\n",
        "  def __init__(self):\n",
        "    super().__init__()\n",
        "    self.linear_layer = nn.Linear(in_features = 1,\n",
        "                                  out_features = 1)\n",
        "  def forward(self, x: torch.Tensor) -> torch.Tensor:\n",
        "    return self.linear_layer(x)\n",
        "\n",
        "torch.manual_seed(42)\n",
        "model_1 = LinearRegressionV2()\n",
        "model_1, model_1.state_dict()"
      ],
      "metadata": {
        "colab": {
          "base_uri": "https://localhost:8080/"
        },
        "id": "eNnVpADc8gUC",
        "outputId": "ccc9f4a2-21fa-4756-8360-b0c4debeefa1"
      },
      "execution_count": null,
      "outputs": [
        {
          "output_type": "execute_result",
          "data": {
            "text/plain": [
              "(LinearRegressionV2(\n",
              "   (linear_layer): Linear(in_features=1, out_features=1, bias=True)\n",
              " ),\n",
              " OrderedDict([('linear_layer.weight', tensor([[0.7645]])),\n",
              "              ('linear_layer.bias', tensor([0.8300]))]))"
            ]
          },
          "metadata": {},
          "execution_count": 20
        }
      ]
    },
    {
      "cell_type": "code",
      "source": [
        "weight = 0.7\n",
        "bias = 0.3\n",
        "start = 0\n",
        "end = 1\n",
        "step = 0.02\n",
        "X = torch.arange(start, end, step).unsqueeze(dim = 1)\n",
        "y = weight * X + bias\n",
        "train_split = int(len(X)*0.8)\n",
        "X_train, y_train = X[:train_split], y[:train_split]\n",
        "X_test, y_test = X[train_split:], y[train_split:]"
      ],
      "metadata": {
        "id": "u_OuX8Mf-gE7"
      },
      "execution_count": null,
      "outputs": []
    },
    {
      "cell_type": "code",
      "source": [
        "device = \"cuda\" if torch.cuda.is_available() else \"cpu\"\n",
        "device\n"
      ],
      "metadata": {
        "colab": {
          "base_uri": "https://localhost:8080/",
          "height": 35
        },
        "id": "MfL4a3WaBQeC",
        "outputId": "fda892ce-870b-43d1-8678-0a1ea0988be2"
      },
      "execution_count": null,
      "outputs": [
        {
          "output_type": "execute_result",
          "data": {
            "text/plain": [
              "'cuda'"
            ],
            "application/vnd.google.colaboratory.intrinsic+json": {
              "type": "string"
            }
          },
          "metadata": {},
          "execution_count": 22
        }
      ]
    },
    {
      "cell_type": "code",
      "source": [
        "next(model_1.parameters()).device"
      ],
      "metadata": {
        "colab": {
          "base_uri": "https://localhost:8080/"
        },
        "id": "r5pyRsicBa3U",
        "outputId": "825b5f95-da47-476d-d708-45e97b55da6c"
      },
      "execution_count": null,
      "outputs": [
        {
          "output_type": "execute_result",
          "data": {
            "text/plain": [
              "device(type='cpu')"
            ]
          },
          "metadata": {},
          "execution_count": 23
        }
      ]
    },
    {
      "cell_type": "code",
      "source": [
        "model_1.to(device)"
      ],
      "metadata": {
        "colab": {
          "base_uri": "https://localhost:8080/"
        },
        "id": "QtD5_Vm7B5Hv",
        "outputId": "ab0c889c-1d4c-41e6-edb5-dd55e24b084b"
      },
      "execution_count": null,
      "outputs": [
        {
          "output_type": "execute_result",
          "data": {
            "text/plain": [
              "LinearRegressionV2(\n",
              "  (linear_layer): Linear(in_features=1, out_features=1, bias=True)\n",
              ")"
            ]
          },
          "metadata": {},
          "execution_count": 24
        }
      ]
    },
    {
      "cell_type": "code",
      "source": [
        "loss_fn = nn.L1Loss()\n",
        "optimizer = torch.optim.SGD(model_1.parameters(),\n",
        "                            lr = 1e-4)\n",
        "epochs = 10000\n",
        "epoch_count = []\n",
        "loss_values = []\n",
        "test_loss_values =  []\n",
        "\n",
        "\n",
        "X_train = X_train.to(device)\n",
        "y_train = y_train.to(device)\n",
        "X_test = X_test.to(device)\n",
        "y_test = X_test.to(device)\n",
        "\n",
        "\n",
        "for epoch in range(epochs):\n",
        "  model_1.train()\n",
        "  y_pred = model_1(X_train)\n",
        "  loss = loss_fn(y_pred, y_train)\n",
        "  #print(f\"Loss: {loss}\")\n",
        "  optimizer.zero_grad()\n",
        "  loss.backward()\n",
        "  optimizer.step()\n",
        "  model_0.eval()\n",
        "  with torch.inference_mode():\n",
        "    test_pred = model_1(X_test)\n",
        "    test_loss = loss_fn(test_pred, y_test)\n",
        "  if epoch % 100 == 0:\n",
        "    epoch_count.append(epoch)\n",
        "    loss_values.append(loss)\n",
        "    test_loss_values.append(test_loss)\n",
        "    print(f\"Epoch: {epoch} | Loss: {loss} | Test Loss : {test_loss}\")"
      ],
      "metadata": {
        "colab": {
          "base_uri": "https://localhost:8080/"
        },
        "id": "QQmdDIrNC3kS",
        "outputId": "a9b95e01-c48e-4f47-ee02-e577347c1c74"
      },
      "execution_count": null,
      "outputs": [
        {
          "output_type": "stream",
          "name": "stdout",
          "text": [
            "Epoch: 0 | Loss: 0.5550627112388611 | Test Loss : 0.6201777458190918\n",
            "Epoch: 100 | Loss: 0.5435407757759094 | Test Loss : 0.6067067980766296\n",
            "Epoch: 200 | Loss: 0.5320188403129578 | Test Loss : 0.5932357311248779\n",
            "Epoch: 300 | Loss: 0.5204969644546509 | Test Loss : 0.5797647833824158\n",
            "Epoch: 400 | Loss: 0.5089749693870544 | Test Loss : 0.5662937164306641\n",
            "Epoch: 500 | Loss: 0.4974530339241028 | Test Loss : 0.5528227686882019\n",
            "Epoch: 600 | Loss: 0.4859311282634735 | Test Loss : 0.5393517017364502\n",
            "Epoch: 700 | Loss: 0.47440919280052185 | Test Loss : 0.525880753993988\n",
            "Epoch: 800 | Loss: 0.4628872573375702 | Test Loss : 0.5124096870422363\n",
            "Epoch: 900 | Loss: 0.45136529207229614 | Test Loss : 0.4989387094974518\n",
            "Epoch: 1000 | Loss: 0.43984338641166687 | Test Loss : 0.48546767234802246\n",
            "Epoch: 1100 | Loss: 0.4283214509487152 | Test Loss : 0.4719966948032379\n",
            "Epoch: 1200 | Loss: 0.41679951548576355 | Test Loss : 0.4585256576538086\n",
            "Epoch: 1300 | Loss: 0.4052775502204895 | Test Loss : 0.44505468010902405\n",
            "Epoch: 1400 | Loss: 0.39375564455986023 | Test Loss : 0.4315836429595947\n",
            "Epoch: 1500 | Loss: 0.38223370909690857 | Test Loss : 0.4181126654148102\n",
            "Epoch: 1600 | Loss: 0.3707117736339569 | Test Loss : 0.40464162826538086\n",
            "Epoch: 1700 | Loss: 0.35918983817100525 | Test Loss : 0.3911706507205963\n",
            "Epoch: 1800 | Loss: 0.3476679027080536 | Test Loss : 0.377699613571167\n",
            "Epoch: 1900 | Loss: 0.33614596724510193 | Test Loss : 0.36422863602638245\n",
            "Epoch: 2000 | Loss: 0.32462403178215027 | Test Loss : 0.3507575988769531\n",
            "Epoch: 2100 | Loss: 0.3131020963191986 | Test Loss : 0.3372866213321686\n",
            "Epoch: 2200 | Loss: 0.30158016085624695 | Test Loss : 0.32381558418273926\n",
            "Epoch: 2300 | Loss: 0.2900582253932953 | Test Loss : 0.3103446066379547\n",
            "Epoch: 2400 | Loss: 0.27853628993034363 | Test Loss : 0.2968735694885254\n",
            "Epoch: 2500 | Loss: 0.26701435446739197 | Test Loss : 0.28340259194374084\n",
            "Epoch: 2600 | Loss: 0.2554924190044403 | Test Loss : 0.2699315547943115\n",
            "Epoch: 2700 | Loss: 0.24397046864032745 | Test Loss : 0.256460577249527\n",
            "Epoch: 2800 | Loss: 0.2324485331773758 | Test Loss : 0.24298956990242004\n",
            "Epoch: 2900 | Loss: 0.22092659771442413 | Test Loss : 0.2295185625553131\n",
            "Epoch: 3000 | Loss: 0.20940466225147247 | Test Loss : 0.21604755520820618\n",
            "Epoch: 3100 | Loss: 0.1978827267885208 | Test Loss : 0.20257654786109924\n",
            "Epoch: 3200 | Loss: 0.18636079132556915 | Test Loss : 0.1891055405139923\n",
            "Epoch: 3300 | Loss: 0.17483890056610107 | Test Loss : 0.17563462257385254\n",
            "Epoch: 3400 | Loss: 0.16331994533538818 | Test Loss : 0.16216659545898438\n",
            "Epoch: 3500 | Loss: 0.1518009901046753 | Test Loss : 0.1486985683441162\n",
            "Epoch: 3600 | Loss: 0.1402820348739624 | Test Loss : 0.13523054122924805\n",
            "Epoch: 3700 | Loss: 0.1287630796432495 | Test Loss : 0.12176252901554108\n",
            "Epoch: 3800 | Loss: 0.11724412441253662 | Test Loss : 0.10829448699951172\n",
            "Epoch: 3900 | Loss: 0.10572516918182373 | Test Loss : 0.09482646733522415\n",
            "Epoch: 4000 | Loss: 0.09420621395111084 | Test Loss : 0.08135844022035599\n",
            "Epoch: 4100 | Loss: 0.08268725872039795 | Test Loss : 0.06789041310548782\n",
            "Epoch: 4200 | Loss: 0.07116830348968506 | Test Loss : 0.05442237854003906\n",
            "Epoch: 4300 | Loss: 0.05964934825897217 | Test Loss : 0.0409543514251709\n",
            "Epoch: 4400 | Loss: 0.048130396753549576 | Test Loss : 0.029517650604248047\n",
            "Epoch: 4500 | Loss: 0.03778436779975891 | Test Loss : 0.02318413369357586\n",
            "Epoch: 4600 | Loss: 0.031897008419036865 | Test Loss : 0.020949089899659157\n",
            "Epoch: 4700 | Loss: 0.028515392914414406 | Test Loss : 0.02067130245268345\n",
            "Epoch: 4800 | Loss: 0.026446625590324402 | Test Loss : 0.02093983255326748\n",
            "Epoch: 4900 | Loss: 0.02508106268942356 | Test Loss : 0.02160668931901455\n",
            "Epoch: 5000 | Loss: 0.024154802784323692 | Test Loss : 0.022046023979783058\n",
            "Epoch: 5100 | Loss: 0.023454250767827034 | Test Loss : 0.022440105676651\n",
            "Epoch: 5200 | Loss: 0.022924520075321198 | Test Loss : 0.022786898538470268\n",
            "Epoch: 5300 | Loss: 0.022455163300037384 | Test Loss : 0.0229814350605011\n",
            "Epoch: 5400 | Loss: 0.022042490541934967 | Test Loss : 0.023035436868667603\n",
            "Epoch: 5500 | Loss: 0.02163376845419407 | Test Loss : 0.023069364950060844\n",
            "Epoch: 5600 | Loss: 0.021280592307448387 | Test Loss : 0.022836511954665184\n",
            "Epoch: 5700 | Loss: 0.020927418023347855 | Test Loss : 0.022603660821914673\n",
            "Epoch: 5800 | Loss: 0.020574241876602173 | Test Loss : 0.02237080968916416\n",
            "Epoch: 5900 | Loss: 0.02022106759250164 | Test Loss : 0.02213795855641365\n",
            "Epoch: 6000 | Loss: 0.01986789144575596 | Test Loss : 0.02190510742366314\n",
            "Epoch: 6100 | Loss: 0.019514715299010277 | Test Loss : 0.02167225442826748\n",
            "Epoch: 6200 | Loss: 0.019168032333254814 | Test Loss : 0.021338803693652153\n",
            "Epoch: 6300 | Loss: 0.018824446946382523 | Test Loss : 0.021096212789416313\n",
            "Epoch: 6400 | Loss: 0.018480833619832993 | Test Loss : 0.020854366943240166\n",
            "Epoch: 6500 | Loss: 0.018137222155928612 | Test Loss : 0.020611047744750977\n",
            "Epoch: 6600 | Loss: 0.017793696373701096 | Test Loss : 0.02036846987903118\n",
            "Epoch: 6700 | Loss: 0.01745006814599037 | Test Loss : 0.02012513391673565\n",
            "Epoch: 6800 | Loss: 0.01710648275911808 | Test Loss : 0.01988329365849495\n",
            "Epoch: 6900 | Loss: 0.016762906685471535 | Test Loss : 0.01963997446000576\n",
            "Epoch: 7000 | Loss: 0.016419267281889915 | Test Loss : 0.019396651536226273\n",
            "Epoch: 7100 | Loss: 0.0160757414996624 | Test Loss : 0.019154811277985573\n",
            "Epoch: 7200 | Loss: 0.01573212444782257 | Test Loss : 0.018912626430392265\n",
            "Epoch: 7300 | Loss: 0.015388527885079384 | Test Loss : 0.01882711611688137\n",
            "Epoch: 7400 | Loss: 0.015044944360852242 | Test Loss : 0.018741650506854057\n",
            "Epoch: 7500 | Loss: 0.014701301231980324 | Test Loss : 0.018656140193343163\n",
            "Epoch: 7600 | Loss: 0.014357763342559338 | Test Loss : 0.018570726737380028\n",
            "Epoch: 7700 | Loss: 0.014014146290719509 | Test Loss : 0.018485231325030327\n",
            "Epoch: 7800 | Loss: 0.013670548796653748 | Test Loss : 0.018399810418486595\n",
            "Epoch: 7900 | Loss: 0.013326984830200672 | Test Loss : 0.018314315006136894\n",
            "Epoch: 8000 | Loss: 0.012983344495296478 | Test Loss : 0.018228793516755104\n",
            "Epoch: 8100 | Loss: 0.012639760971069336 | Test Loss : 0.018143339082598686\n",
            "Epoch: 8200 | Loss: 0.012296191416680813 | Test Loss : 0.018186314031481743\n",
            "Epoch: 8300 | Loss: 0.011952577158808708 | Test Loss : 0.018264813348650932\n",
            "Epoch: 8400 | Loss: 0.01160902064293623 | Test Loss : 0.01834394969046116\n",
            "Epoch: 8500 | Loss: 0.011265377514064312 | Test Loss : 0.018423080444335938\n",
            "Epoch: 8600 | Loss: 0.010921835899353027 | Test Loss : 0.018500948324799538\n",
            "Epoch: 8700 | Loss: 0.01057822722941637 | Test Loss : 0.018580084666609764\n",
            "Epoch: 8800 | Loss: 0.010234612040221691 | Test Loss : 0.018657952547073364\n",
            "Epoch: 8900 | Loss: 0.009890997782349586 | Test Loss : 0.018737083300948143\n",
            "Epoch: 9000 | Loss: 0.009547474794089794 | Test Loss : 0.018867118284106255\n",
            "Epoch: 9100 | Loss: 0.009203844703733921 | Test Loss : 0.01911773718893528\n",
            "Epoch: 9200 | Loss: 0.00886025745421648 | Test Loss : 0.0193670392036438\n",
            "Epoch: 9300 | Loss: 0.008516645058989525 | Test Loss : 0.019615018740296364\n",
            "Epoch: 9400 | Loss: 0.00817310344427824 | Test Loss : 0.01986563205718994\n",
            "Epoch: 9500 | Loss: 0.00782946590334177 | Test Loss : 0.02011626400053501\n",
            "Epoch: 9600 | Loss: 0.007485898677259684 | Test Loss : 0.02036423049867153\n",
            "Epoch: 9700 | Loss: 0.007142301648855209 | Test Loss : 0.020614856854081154\n",
            "Epoch: 9800 | Loss: 0.00679872278124094 | Test Loss : 0.02094823122024536\n",
            "Epoch: 9900 | Loss: 0.006455076392740011 | Test Loss : 0.021377181634306908\n"
          ]
        }
      ]
    },
    {
      "cell_type": "code",
      "source": [
        "model_1.state_dict()"
      ],
      "metadata": {
        "colab": {
          "base_uri": "https://localhost:8080/"
        },
        "id": "R8-jq9KzE7RZ",
        "outputId": "7ada1751-55c5-4a33-a6b7-3a08e96a9f8b"
      },
      "execution_count": null,
      "outputs": [
        {
          "output_type": "execute_result",
          "data": {
            "text/plain": [
              "OrderedDict([('linear_layer.weight', tensor([[0.6696]], device='cuda:0')),\n",
              "             ('linear_layer.bias', tensor([0.3128], device='cuda:0'))])"
            ]
          },
          "metadata": {},
          "execution_count": 27
        }
      ]
    },
    {
      "cell_type": "code",
      "source": [
        "model_1.eval()\n",
        "with torch.inference_mode():\n",
        "  y_preds = model_1(X_test)\n",
        "\n",
        "y_preds "
      ],
      "metadata": {
        "colab": {
          "base_uri": "https://localhost:8080/"
        },
        "id": "K6v2LtWMFiEA",
        "outputId": "eae18d79-4085-41de-cab0-7a16de1fc1b7"
      },
      "execution_count": null,
      "outputs": [
        {
          "output_type": "execute_result",
          "data": {
            "text/plain": [
              "tensor([[0.8484],\n",
              "        [0.8618],\n",
              "        [0.8752],\n",
              "        [0.8886],\n",
              "        [0.9020],\n",
              "        [0.9154],\n",
              "        [0.9288],\n",
              "        [0.9422],\n",
              "        [0.9556],\n",
              "        [0.9690]], device='cuda:0')"
            ]
          },
          "metadata": {},
          "execution_count": 28
        }
      ]
    },
    {
      "cell_type": "code",
      "source": [
        "plt_(predictions = y_preds.cpu())"
      ],
      "metadata": {
        "colab": {
          "base_uri": "https://localhost:8080/",
          "height": 428
        },
        "id": "p972qd0EIBif",
        "outputId": "9e938b34-5ed7-4f3d-fadb-1b56d4d59768"
      },
      "execution_count": null,
      "outputs": [
        {
          "output_type": "display_data",
          "data": {
            "text/plain": [
              "<Figure size 720x504 with 1 Axes>"
            ],
            "image/png": "[encoded data removed]"
          },
          "metadata": {
            "needs_background": "light"
          }
        }
      ]
    },
    {
      "cell_type": "code",
      "source": [],
      "metadata": {
        "id": "3-w1NX7TIOwW"
      },
      "execution_count": null,
      "outputs": []
    }
  ]
}